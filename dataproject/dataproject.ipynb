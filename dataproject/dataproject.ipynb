{
 "cells": [
  {
   "cell_type": "markdown",
   "metadata": {},
   "source": [
    "# Danish trade balance"
   ]
  },
  {
   "cell_type": "markdown",
   "metadata": {},
   "source": [
    "This project focuses on Danish exports in the period 2005-2019. Firstly, data from statistikbanken.dk, BB3 and UVH3, is retrieved. This shows the country-based exports and exports in specific areas of production respectively. This data is then cleaned, presented, and analysed. Finally, conclusions are made on the basis of the analysis of the data."
   ]
  },
  {
   "cell_type": "markdown",
   "metadata": {},
   "source": [
    "Firstly we import relevant packages."
   ]
  },
  {
   "cell_type": "code",
<<<<<<< HEAD
   "execution_count": 1,
=======
   "execution_count": 272,
>>>>>>> de79eafb183289763661c871260534a97a24f5cf
   "metadata": {},
   "outputs": [],
   "source": [
    "#Importing relevant packages\n",
    "import numpy as np\n",
    "import matplotlib.pyplot as plt\n",
    "plt.style.use('seaborn-whitegrid')\n",
    "import pandas as pd\n",
    "import pydst\n",
    "dst = pydst.Dst(lang='en')"
   ]
  },
  {
   "cell_type": "markdown",
   "metadata": {},
   "source": [
    "We want to rename columns and remove certain variables, therefore we create various dictionaries for these purposes."
   ]
  },
  {
   "cell_type": "code",
   "execution_count": 273,
   "metadata": {},
   "outputs": [],
   "source": [
    "#Creating dictionaries \n",
    "columns_dict = {}\n",
    "columns_dict['POST'] = 'Variable'\n",
    "columns_dict['TID'] = 'Date'\n",
    "columns_dict['LAND'] = 'Country'\n",
    "columns_dict['INDUDBOP'] = 'Export'\n",
    "columns_dict['INDHOLD'] = 'Value'\n",
    "\n",
    "var_dict = {} \n",
    "var_dict['GOODS (FOB)'] = 'Goods'\n",
    "\n",
    "country_dict = {}\n",
    "country_dict['United States'] = 'USA'\n",
    "country_dict['EU-28'] = 'EU'\n",
    "country_dict['Norway'] = 'Norway'\n",
    "country_dict['China'] = 'China'"
   ]
  },
  {
   "cell_type": "code",
   "execution_count": 3,
   "metadata": {},
   "outputs": [
    {
     "data": {
      "text/plain": [
       "['United States', 'EU-28', 'Norway', 'Germany', 'China', 'United Kingdom']"
      ]
     },
     "execution_count": 3,
     "metadata": {},
     "output_type": "execute_result"
    }
   ],
   "source": [
    "list(country_dict.keys())"
   ]
  },
  {
   "cell_type": "markdown",
   "metadata": {},
   "source": [
    "We retrieve the data from DST by using their API called pydst."
   ]
  },
  {
   "cell_type": "code",
<<<<<<< HEAD
   "execution_count": 4,
=======
   "execution_count": 274,
>>>>>>> de79eafb183289763661c871260534a97a24f5cf
   "metadata": {},
   "outputs": [
    {
     "data": {
      "text/html": [
       "<div>\n",
       "<style scoped>\n",
       "    .dataframe tbody tr th:only-of-type {\n",
       "        vertical-align: middle;\n",
       "    }\n",
       "\n",
       "    .dataframe tbody tr th {\n",
       "        vertical-align: top;\n",
       "    }\n",
       "\n",
       "    .dataframe thead th {\n",
       "        text-align: right;\n",
       "    }\n",
       "</style>\n",
       "<table border=\"1\" class=\"dataframe\">\n",
       "  <thead>\n",
       "    <tr style=\"text-align: right;\">\n",
       "      <th></th>\n",
       "      <th>POST</th>\n",
       "      <th>LAND</th>\n",
       "      <th>TID</th>\n",
       "      <th>INDUDBOP</th>\n",
       "      <th>INDHOLD</th>\n",
       "    </tr>\n",
       "  </thead>\n",
       "  <tbody>\n",
       "    <tr>\n",
       "      <th>0</th>\n",
       "      <td>GOODS (FOB)</td>\n",
       "      <td>European Union Institutions (excl. ECB and ESM)</td>\n",
       "      <td>2009</td>\n",
       "      <td>Current receipts</td>\n",
       "      <td>0</td>\n",
       "    </tr>\n",
       "    <tr>\n",
       "      <th>1</th>\n",
       "      <td>GOODS (FOB)</td>\n",
       "      <td>European Central Bank (ECB)</td>\n",
       "      <td>2009</td>\n",
       "      <td>Current receipts</td>\n",
       "      <td>0</td>\n",
       "    </tr>\n",
       "    <tr>\n",
       "      <th>2</th>\n",
       "      <td>GOODS (FOB)</td>\n",
       "      <td>European Stability Mechanism (ESM)</td>\n",
       "      <td>2009</td>\n",
       "      <td>Current receipts</td>\n",
       "      <td>0</td>\n",
       "    </tr>\n",
       "    <tr>\n",
       "      <th>3</th>\n",
       "      <td>GOODS (FOB)</td>\n",
       "      <td>INTERNATIONAL ORGANISATIONS (EXCL. EU INST.)</td>\n",
       "      <td>2009</td>\n",
       "      <td>Current receipts</td>\n",
       "      <td>1</td>\n",
       "    </tr>\n",
       "    <tr>\n",
       "      <th>4</th>\n",
       "      <td>GOODS (FOB)</td>\n",
       "      <td>AMERICA</td>\n",
       "      <td>2009</td>\n",
       "      <td>Current receipts</td>\n",
       "      <td>51841</td>\n",
       "    </tr>\n",
       "  </tbody>\n",
       "</table>\n",
       "</div>"
      ],
      "text/plain": [
       "          POST                                             LAND   TID  \\\n",
       "0  GOODS (FOB)  European Union Institutions (excl. ECB and ESM)  2009   \n",
       "1  GOODS (FOB)                      European Central Bank (ECB)  2009   \n",
       "2  GOODS (FOB)               European Stability Mechanism (ESM)  2009   \n",
       "3  GOODS (FOB)     INTERNATIONAL ORGANISATIONS (EXCL. EU INST.)  2009   \n",
       "4  GOODS (FOB)                                          AMERICA  2009   \n",
       "\n",
       "           INDUDBOP INDHOLD  \n",
       "0  Current receipts       0  \n",
       "1  Current receipts       0  \n",
       "2  Current receipts       0  \n",
       "3  Current receipts       1  \n",
       "4  Current receipts   51841  "
      ]
     },
<<<<<<< HEAD
     "execution_count": 4,
=======
     "execution_count": 274,
>>>>>>> de79eafb183289763661c871260534a97a24f5cf
     "metadata": {},
     "output_type": "execute_result"
    }
   ],
   "source": [
    "#Retrieving the data through the API of DST and taking a quick look at it.\n",
    "bb3 = dst.get_data(table_id = 'BB3', variables={'POST':['*'], 'LAND':['*'], 'TID':['*']})\n",
    "bb3.head(5)"
   ]
  },
  {
   "cell_type": "markdown",
   "metadata": {},
   "source": [
    "# Reading and cleaning data"
   ]
  },
  {
   "cell_type": "markdown",
   "metadata": {},
   "source": [
    "In this section we will clean the data by renamning rows and columns. We will furthermore select countries and areas, which we will examine."
   ]
  },
  {
   "cell_type": "code",
   "execution_count": 275,
   "metadata": {},
   "outputs": [
    {
     "data": {
      "text/html": [
       "<div>\n",
       "<style scoped>\n",
       "    .dataframe tbody tr th:only-of-type {\n",
       "        vertical-align: middle;\n",
       "    }\n",
       "\n",
       "    .dataframe tbody tr th {\n",
       "        vertical-align: top;\n",
       "    }\n",
       "\n",
       "    .dataframe thead th {\n",
       "        text-align: right;\n",
       "    }\n",
       "</style>\n",
       "<table border=\"1\" class=\"dataframe\">\n",
       "  <thead>\n",
       "    <tr style=\"text-align: right;\">\n",
       "      <th></th>\n",
       "      <th>Variable</th>\n",
       "      <th>Country</th>\n",
       "      <th>Date</th>\n",
       "      <th>Export</th>\n",
       "      <th>Value</th>\n",
       "    </tr>\n",
       "  </thead>\n",
       "  <tbody>\n",
       "    <tr>\n",
       "      <th>0</th>\n",
       "      <td>GOODS (FOB)</td>\n",
       "      <td>European Union Institutions (excl. ECB and ESM)</td>\n",
       "      <td>2009</td>\n",
       "      <td>Current receipts</td>\n",
       "      <td>0</td>\n",
       "    </tr>\n",
       "    <tr>\n",
       "      <th>1</th>\n",
       "      <td>GOODS (FOB)</td>\n",
       "      <td>European Central Bank (ECB)</td>\n",
       "      <td>2009</td>\n",
       "      <td>Current receipts</td>\n",
       "      <td>0</td>\n",
       "    </tr>\n",
       "    <tr>\n",
       "      <th>2</th>\n",
       "      <td>GOODS (FOB)</td>\n",
       "      <td>European Stability Mechanism (ESM)</td>\n",
       "      <td>2009</td>\n",
       "      <td>Current receipts</td>\n",
       "      <td>0</td>\n",
       "    </tr>\n",
       "    <tr>\n",
       "      <th>3</th>\n",
       "      <td>GOODS (FOB)</td>\n",
       "      <td>INTERNATIONAL ORGANISATIONS (EXCL. EU INST.)</td>\n",
       "      <td>2009</td>\n",
       "      <td>Current receipts</td>\n",
       "      <td>1</td>\n",
       "    </tr>\n",
       "    <tr>\n",
       "      <th>4</th>\n",
       "      <td>GOODS (FOB)</td>\n",
       "      <td>AMERICA</td>\n",
       "      <td>2009</td>\n",
       "      <td>Current receipts</td>\n",
       "      <td>51841</td>\n",
       "    </tr>\n",
       "  </tbody>\n",
       "</table>\n",
       "</div>"
      ],
      "text/plain": [
       "      Variable                                          Country  Date  \\\n",
       "0  GOODS (FOB)  European Union Institutions (excl. ECB and ESM)  2009   \n",
       "1  GOODS (FOB)                      European Central Bank (ECB)  2009   \n",
       "2  GOODS (FOB)               European Stability Mechanism (ESM)  2009   \n",
       "3  GOODS (FOB)     INTERNATIONAL ORGANISATIONS (EXCL. EU INST.)  2009   \n",
       "4  GOODS (FOB)                                          AMERICA  2009   \n",
       "\n",
       "             Export  Value  \n",
       "0  Current receipts      0  \n",
       "1  Current receipts      0  \n",
       "2  Current receipts      0  \n",
       "3  Current receipts      1  \n",
       "4  Current receipts  51841  "
      ]
     },
     "execution_count": 275,
     "metadata": {},
     "output_type": "execute_result"
    }
   ],
   "source": [
    "#Renaming the column names using our predefined dictionary.\n",
    "bb3.rename(columns=columns_dict,inplace=True)\n",
    "bb3.head(5)"
   ]
  },
  {
   "cell_type": "code",
   "execution_count": 276,
   "metadata": {},
   "outputs": [
    {
     "data": {
      "text/plain": [
       "array(['GOODS (FOB)', 'Other business services', 'Travel',\n",
       "       'NET ERRORS AND OMISSIONS',\n",
       "       'Primary income, investment income, direct investment, equity',\n",
       "       'Air transport', 'Personal, cultural, and recreational services',\n",
       "       'SERVICES', 'Secondary income, net nonlife insurance premiums',\n",
       "       'Other modes of transport',\n",
       "       'Primary income, investment income, direct investment, debt instruments',\n",
       "       'NET LENDING', 'Secondary income, social contributions',\n",
       "       'Government goods and services',\n",
       "       'Primary income, investment income, direct investment',\n",
       "       'Manufacturing services', 'Postal and courier services',\n",
       "       'Sea transport, other', 'CURRENT ACCOUNT',\n",
       "       'Secondary income, social benefits', 'Goods and services',\n",
       "       'FINANCIAL ACCOUNT', 'Transport', 'Construction',\n",
       "       'Primary income, investment income, reserve assets',\n",
       "       'Primary income, other primary income, subsidies',\n",
       "       'Sea transport, passenger',\n",
       "       'Primary income, investment income, portfolio investment, equity',\n",
       "       'Primary income, other primary income', 'Sea transport, freight',\n",
       "       'Primary income, investment income, portfolio investment, debt instruments',\n",
       "       'Primary income, investment income, portfolio investment, investment fund shares',\n",
       "       'Primary income, other primary income, taxes on production and imports',\n",
       "       'Maintenance and repair services',\n",
       "       'Primary income, investment income, other investment',\n",
       "       'Primary income, investment income, portfolio investment',\n",
       "       'Sea transport', 'Secondary income, net nonlife insurance claims',\n",
       "       'Secondary income, taxes on income', 'CAPITAL TRANSFERS ETC.',\n",
       "       'SECONDARY INCOME',\n",
       "       'Charges for the use of intellectual properties',\n",
       "       'Primary income, other primary income, rent',\n",
       "       'Primary income, investment income',\n",
       "       'Secondary income, other transfers',\n",
       "       'Primary income, compensation of employees',\n",
       "       'Telecommunications, computer, and information services',\n",
       "       'Financial services', 'PRIMARY INCOME',\n",
       "       'Insurance and pensions services'], dtype=object)"
      ]
     },
     "execution_count": 6,
     "metadata": {},
     "output_type": "execute_result"
    }
   ],
   "source": [
    "bb3.Variable.unique()"
   ]
  },
  {
   "cell_type": "code",
   "execution_count": 7,
   "metadata": {},
   "outputs": [
    {
     "data": {
      "text/plain": [
       "array(['Current receipts'], dtype=object)"
      ]
     },
     "execution_count": 7,
     "metadata": {},
     "output_type": "execute_result"
    }
   ],
   "source": [
    "bb3.ImportExport.unique()"
   ]
  },
  {
   "cell_type": "code",
   "execution_count": 8,
   "metadata": {},
   "outputs": [],
   "source": [
    "#Renaming the variables and keeping the ones of interest (Goods (FOB))\n",
    "for key,value in var_dict.items():\n",
    "   bb3.Variable.replace(key,value,inplace=True)\n",
    "\n",
    "I = False\n",
    "for key,value in var_dict.items():\n",
    "    I = I | (bb3.Variable == value)\n",
    "bb3 = bb3[I]"
   ]
  },
  {
   "cell_type": "code",
<<<<<<< HEAD
   "execution_count": 9,
=======
   "execution_count": 277,
>>>>>>> de79eafb183289763661c871260534a97a24f5cf
   "metadata": {},
   "outputs": [
    {
     "data": {
      "text/html": [
       "<div>\n",
       "<style scoped>\n",
       "    .dataframe tbody tr th:only-of-type {\n",
       "        vertical-align: middle;\n",
       "    }\n",
       "\n",
       "    .dataframe tbody tr th {\n",
       "        vertical-align: top;\n",
       "    }\n",
       "\n",
       "    .dataframe thead th {\n",
       "        text-align: right;\n",
       "    }\n",
       "</style>\n",
       "<table border=\"1\" class=\"dataframe\">\n",
       "  <thead>\n",
       "    <tr style=\"text-align: right;\">\n",
       "      <th></th>\n",
       "      <th>Variable</th>\n",
       "      <th>Country</th>\n",
       "      <th>Date</th>\n",
       "      <th>Export</th>\n",
       "      <th>Value</th>\n",
       "    </tr>\n",
       "  </thead>\n",
       "  <tbody>\n",
       "    <tr>\n",
       "      <th>23</th>\n",
       "      <td>Goods</td>\n",
       "      <td>EU</td>\n",
       "      <td>2009</td>\n",
       "      <td>Current receipts</td>\n",
       "      <td>333846</td>\n",
       "    </tr>\n",
       "    <tr>\n",
       "      <th>54</th>\n",
       "      <td>Goods</td>\n",
       "      <td>China</td>\n",
       "      <td>2009</td>\n",
       "      <td>Current receipts</td>\n",
       "      <td>11950</td>\n",
       "    </tr>\n",
       "    <tr>\n",
       "      <th>1341</th>\n",
       "      <td>Goods</td>\n",
       "      <td>EU</td>\n",
       "      <td>2006</td>\n",
       "      <td>Current receipts</td>\n",
       "      <td>374576</td>\n",
       "    </tr>\n",
       "    <tr>\n",
       "      <th>1372</th>\n",
       "      <td>Goods</td>\n",
       "      <td>China</td>\n",
       "      <td>2006</td>\n",
       "      <td>Current receipts</td>\n",
       "      <td>7032</td>\n",
       "    </tr>\n",
       "    <tr>\n",
       "      <th>1536</th>\n",
       "      <td>Goods</td>\n",
       "      <td>Norway</td>\n",
       "      <td>2009</td>\n",
       "      <td>Current receipts</td>\n",
       "      <td>30737</td>\n",
       "    </tr>\n",
       "  </tbody>\n",
       "</table>\n",
       "</div>"
      ],
      "text/plain": [
       "     Variable Country  Date            Export   Value\n",
       "23      Goods      EU  2009  Current receipts  333846\n",
       "54      Goods   China  2009  Current receipts   11950\n",
       "1341    Goods      EU  2006  Current receipts  374576\n",
       "1372    Goods   China  2006  Current receipts    7032\n",
       "1536    Goods  Norway  2009  Current receipts   30737"
      ]
     },
<<<<<<< HEAD
     "execution_count": 9,
=======
     "execution_count": 277,
>>>>>>> de79eafb183289763661c871260534a97a24f5cf
     "metadata": {},
     "output_type": "execute_result"
    }
   ],
   "source": [
    "#Selecting countries and areas for further analysis using country_dict.\n",
    "for key,value in country_dict.items():\n",
    "   bb3.Country.replace(key,value,inplace=True)\n",
    "\n",
    "I = False\n",
    "for key,value in country_dict.items():\n",
    "    I = I | (bb3.Country == value)\n",
    "bb3 = bb3[I].copy()\n",
    "\n",
    "bb3.head(5)"
   ]
  },
  {
   "cell_type": "code",
<<<<<<< HEAD
   "execution_count": 11,
=======
   "execution_count": 278,
>>>>>>> de79eafb183289763661c871260534a97a24f5cf
   "metadata": {},
   "outputs": [
    {
     "data": {
      "text/plain": [
       "Variable     object\n",
       "Country      object\n",
       "Date          int64\n",
       "Export       object\n",
       "Value       float64\n",
       "dtype: object"
      ]
     },
<<<<<<< HEAD
     "execution_count": 11,
=======
     "execution_count": 278,
>>>>>>> de79eafb183289763661c871260534a97a24f5cf
     "metadata": {},
     "output_type": "execute_result"
    }
   ],
   "source": [
    "#Converting the type of 'Value' to floats, as this is necessary for further analysis.\n",
    "bb3.Value = bb3.Value.astype('float')\n",
    "bb3.dtypes"
   ]
  },
  {
   "cell_type": "markdown",
   "metadata": {},
   "source": [
    "# Analysis"
   ]
  },
  {
   "cell_type": "markdown",
   "metadata": {},
   "source": [
    "**Analysis of the cleaned dataset.**"
   ]
  },
  {
   "cell_type": "code",
<<<<<<< HEAD
   "execution_count": 12,
=======
   "execution_count": 279,
>>>>>>> de79eafb183289763661c871260534a97a24f5cf
   "metadata": {},
   "outputs": [
    {
     "data": {
      "text/html": [
       "<div>\n",
       "<style scoped>\n",
       "    .dataframe tbody tr th:only-of-type {\n",
       "        vertical-align: middle;\n",
       "    }\n",
       "\n",
       "    .dataframe tbody tr th {\n",
       "        vertical-align: top;\n",
       "    }\n",
       "\n",
       "    .dataframe thead th {\n",
       "        text-align: right;\n",
       "    }\n",
       "</style>\n",
       "<table border=\"1\" class=\"dataframe\">\n",
       "  <thead>\n",
<<<<<<< HEAD
       "    <tr style=\"text-align: right;\">\n",
=======
       "    <tr>\n",
       "      <th></th>\n",
       "      <th colspan=\"2\" halign=\"left\">Date</th>\n",
       "      <th colspan=\"2\" halign=\"left\">Value</th>\n",
       "    </tr>\n",
       "    <tr>\n",
>>>>>>> de79eafb183289763661c871260534a97a24f5cf
       "      <th></th>\n",
       "      <th>mean</th>\n",
       "      <th>std</th>\n",
       "    </tr>\n",
       "    <tr>\n",
       "      <th>Country</th>\n",
       "      <th></th>\n",
       "      <th></th>\n",
       "    </tr>\n",
       "  </thead>\n",
       "  <tbody>\n",
       "    <tr>\n",
       "      <th>China</th>\n",
<<<<<<< HEAD
       "      <td>24537.80</td>\n",
       "      <td>14091.72</td>\n",
       "    </tr>\n",
       "    <tr>\n",
       "      <th>EU</th>\n",
       "      <td>423260.13</td>\n",
       "      <td>215073.55</td>\n",
       "    </tr>\n",
       "    <tr>\n",
       "      <th>Germany</th>\n",
       "      <td>97719.84</td>\n",
       "      <td>50032.97</td>\n",
       "    </tr>\n",
       "    <tr>\n",
       "      <th>Norway</th>\n",
       "      <td>47728.42</td>\n",
       "      <td>23047.97</td>\n",
       "    </tr>\n",
       "    <tr>\n",
       "      <th>UK</th>\n",
       "      <td>61478.89</td>\n",
       "      <td>32649.59</td>\n",
       "    </tr>\n",
       "    <tr>\n",
       "      <th>US</th>\n",
       "      <td>75696.53</td>\n",
       "      <td>42767.39</td>\n",
=======
       "      <td>2012</td>\n",
       "      <td>4.47</td>\n",
       "      <td>20513.27</td>\n",
       "      <td>10582.07</td>\n",
       "    </tr>\n",
       "    <tr>\n",
       "      <th>EU</th>\n",
       "      <td>2012</td>\n",
       "      <td>4.47</td>\n",
       "      <td>397116.80</td>\n",
       "      <td>34617.46</td>\n",
       "    </tr>\n",
       "    <tr>\n",
       "      <th>Norway</th>\n",
       "      <td>2012</td>\n",
       "      <td>4.47</td>\n",
       "      <td>37395.80</td>\n",
       "      <td>5527.55</td>\n",
       "    </tr>\n",
       "    <tr>\n",
       "      <th>USA</th>\n",
       "      <td>2012</td>\n",
       "      <td>4.47</td>\n",
       "      <td>55390.73</td>\n",
       "      <td>21425.19</td>\n",
>>>>>>> de79eafb183289763661c871260534a97a24f5cf
       "    </tr>\n",
       "  </tbody>\n",
       "</table>\n",
       "</div>"
      ],
      "text/plain": [
<<<<<<< HEAD
       "              mean        std\n",
       "Country                      \n",
       "China     24537.80   14091.72\n",
       "EU       423260.13  215073.55\n",
       "Germany   97719.84   50032.97\n",
       "Norway    47728.42   23047.97\n",
       "UK        61478.89   32649.59\n",
       "US        75696.53   42767.39"
      ]
     },
     "execution_count": 12,
=======
       "         Date            Value          \n",
       "         mean   std       mean       std\n",
       "Country                                 \n",
       "China    2012  4.47   20513.27  10582.07\n",
       "EU       2012  4.47  397116.80  34617.46\n",
       "Norway   2012  4.47   37395.80   5527.55\n",
       "USA      2012  4.47   55390.73  21425.19"
      ]
     },
     "execution_count": 279,
>>>>>>> de79eafb183289763661c871260534a97a24f5cf
     "metadata": {},
     "output_type": "execute_result"
    }
   ],
   "source": [
    "#Summary statistics of the data after the clean up.\n",
    "bb3.groupby('Country')['Value'].agg(['mean','std']).round(2)"
   ]
  },
  {
   "cell_type": "markdown",
   "metadata": {},
   "source": [
    "From this summary we see that the EU is by far the largest importer of Danish goods by value in the period 2005-2019. Furthermore, while China and the US are not\n",
    "the biggest trading partners during the period, we will show that during the period they increase relatively more than trading with Norway or the EU."
   ]
  },
  {
   "cell_type": "markdown",
   "metadata": {},
   "source": [
    "We plot our cleaned data to get a better understanding of the magnitude of export of goods to these areas. "
   ]
  },
  {
   "cell_type": "code",
<<<<<<< HEAD
   "execution_count": 21,
=======
   "execution_count": 296,
>>>>>>> de79eafb183289763661c871260534a97a24f5cf
   "metadata": {},
   "outputs": [
    {
     "data": {
<<<<<<< HEAD
      "image/png": "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\n",
=======
      "image/png": "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\n",
>>>>>>> de79eafb183289763661c871260534a97a24f5cf
      "text/plain": [
       "<Figure size 864x432 with 2 Axes>"
      ]
     },
     "metadata": {},
     "output_type": "display_data"
    }
   ],
   "source": [
    "#Time series plot of our cleaned dataset.\n",
    "def plot(df):\n",
<<<<<<< HEAD
    "    df_indexed = df.set_index('Year')\n",
    "    df_indexed.sort_index(inplace=True)\n",
    "    I = df_indexed.Variable == 'Goods'\n",
    "    I1 = I & (df_indexed.Country=='EU')\n",
    "    I2 = I & (df_indexed.Country!='EU')\n",
    "    \n",
    "    df_indexed.ImportExport == 'Current receipts'\n",
    "    fig = plt.figure(figsize=(12,6))\n",
    "    ax1 = fig.add_subplot(1,2,1)\n",
    "    ax2 = fig.add_subplot(1,2,2)\n",
    "    df_indexed[I1].groupby(['Country'])['Value'].plot(legend=True,ax=ax1)\n",
    "    df_indexed[I2].groupby(['Country'])['Value'].plot(legend=True,ax=ax2)\n",
=======
    "    df_indexed = df.set_index('Date')\n",
    "    df_indexed.sort_index(inplace=True)\n",
    "    I = df_indexed.Variable == 'Goods'\n",
    "    df_indexed[I].groupby(['Country'])['Value'].plot(legend=True,title='Figure 1: Exports');\n",
    "    plt.ylabel(\"DKK (mil.)\")\n",
>>>>>>> de79eafb183289763661c871260534a97a24f5cf
    "    \n",
    "plot(bb3)"
   ]
  },
  {
   "cell_type": "markdown",
   "metadata": {},
   "source": [
    "We notice an expected level change from the EU to the rest of the countries. We will therefore contruct two sperate plots."
   ]
  },
  {
   "cell_type": "code",
   "execution_count": 297,
   "metadata": {},
   "outputs": [
    {
     "data": {
      "image/png": "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\n",
      "text/plain": [
       "<Figure size 864x432 with 2 Axes>"
      ]
     },
     "metadata": {},
     "output_type": "display_data"
    }
   ],
   "source": [
    "def plot(df):\n",
    "    df_indexed = df.set_index('Date')\n",
    "    df_indexed.sort_index(inplace=True)\n",
    "    I = df_indexed.Variable == 'Goods'\n",
    "    I1 = I & (df_indexed.Country=='EU')\n",
    "    I2 = I & (df_indexed.Country!='EU')\n",
    "   \n",
    "    df_indexed.Export == 'Current receipts'\n",
    "    fig = plt.figure(figsize=(12,6))\n",
    "    ax1 = fig.add_subplot(1,2,1)\n",
    "    ax2 = fig.add_subplot(1,2,2)\n",
    "    df_indexed[I1].groupby(['Country'])['Value'].plot(legend=True,ax=ax1,title='Figure 1: Exports - EU')\n",
    "    df_indexed[I2].groupby(['Country'])['Value'].plot(legend=True,ax=ax2, title='Figure 1: Exports - non-EU trading partners')\n",
    "    ax1.set_ylabel('DKK (mil.)');\n",
    "    ax2.set_ylabel('DKK (mil.)');\n",
    "\n",
    "plot(bb3)"
   ]
  },
  {
   "cell_type": "markdown",
   "metadata": {},
   "source": [
    "This shows exports to the EU, China, Norway, and the US. The exports to all trading partners are increasing from 2005 to 2009. However, there is a significant drop in exports following the financial crisis (2008-2009) particularly in exports to EU and to a lesser extent to the US and Norway. Exports to China seems virtually unaffected. This is certainly because the EU in general was more affected from the financial crisis, than China. Furthermore, it is interesting to observe the relative increase in exports to the US and China, which are much larger than those of the EU and Norway.Exports throughout the period is mostly affected by the demand of the Danish trading partners and as such the economic performance of said trading partners. Other factors may include falling transportation costs, trade agreenments, and some considerations about the value of the Kr. (which of course is determined by the Euro) and the Marshall-Lerner condition."
   ]
  },
  {
   "cell_type": "markdown",
   "metadata": {},
   "source": [
    "We have now shown the overall export from select areas. However we want to take a deeper look into what types of goods we export most of. We now import data from another table from DST, which is called 'UHV3'. This table contains data of total external trade by imports and exports by specific kinds. In the following section we will retrieve and clean the new data."
   ]
  },
  {
   "cell_type": "code",
   "execution_count": 227,
   "metadata": {},
   "outputs": [],
   "source": [
    "#Creating dictionaries for UHV3\n",
    "columns_dict_1 = {}\n",
    "columns_dict_1['ART'] = 'Variable'\n",
    "columns_dict_1['TID'] = 'Date'\n",
    "columns_dict_1['LAND'] = 'Country'\n",
    "columns_dict_1['INDUD'] = 'Exports'\n",
    "columns_dict_1['INDHOLD'] = 'Value'\n",
    "\n",
    "var_dict_1 = {} \n",
    "var_dict_1['Live animals, Food, Beverages And Tobacco'] = 'Live animals, Food, Beverages And Tobacco'\n",
    "var_dict_1['Chemicals And Related Products'] = 'Chemicals And Related Products' \n",
    "var_dict_1['Machinery (excl. Transport Equipment)'] = 'Machinery (excl. Transport Equipment)'\n",
    "var_dict_1['TOTAL'] = 'Total'\n",
    "\n",
    "export_dict_1 = {}\n",
    "export_dict_1['Exports']='Export'\n",
    "\n",
    "country_dict_1 = {}\n",
    "country_dict_1['USA'] = 'US'\n",
    "country_dict_1['COUNTRIES TOTAL'] = 'Total'\n",
    "country_dict_1['EU-27 (without the United Kingdom)'] = 'EU'\n",
    "country_dict_1['Norway'] = 'Norway'\n",
    "country_dict_1['China'] = 'China'"
   ]
  },
  {
   "cell_type": "code",
   "execution_count": 228,
   "metadata": {},
   "outputs": [
    {
     "data": {
      "text/html": [
       "<div>\n",
       "<style scoped>\n",
       "    .dataframe tbody tr th:only-of-type {\n",
       "        vertical-align: middle;\n",
       "    }\n",
       "\n",
       "    .dataframe tbody tr th {\n",
       "        vertical-align: top;\n",
       "    }\n",
       "\n",
       "    .dataframe thead th {\n",
       "        text-align: right;\n",
       "    }\n",
       "</style>\n",
       "<table border=\"1\" class=\"dataframe\">\n",
       "  <thead>\n",
       "    <tr style=\"text-align: right;\">\n",
       "      <th></th>\n",
       "      <th>ART</th>\n",
       "      <th>LAND</th>\n",
       "      <th>TID</th>\n",
       "      <th>INDUD</th>\n",
       "      <th>INDHOLD</th>\n",
       "    </tr>\n",
       "  </thead>\n",
       "  <tbody>\n",
       "    <tr>\n",
       "      <th>0</th>\n",
       "      <td>Vessels, aircraft etc.</td>\n",
       "      <td>Netherlands</td>\n",
       "      <td>2000M05</td>\n",
       "      <td>Exports</td>\n",
       "      <td>0.8</td>\n",
       "    </tr>\n",
       "    <tr>\n",
       "      <th>1</th>\n",
       "      <td>Vessels, aircraft etc.</td>\n",
       "      <td>Norway</td>\n",
       "      <td>2000M05</td>\n",
       "      <td>Exports</td>\n",
       "      <td>0.4</td>\n",
       "    </tr>\n",
       "    <tr>\n",
       "      <th>2</th>\n",
       "      <td>Vessels, aircraft etc.</td>\n",
       "      <td>COUNTRIES TOTAL</td>\n",
       "      <td>2000M05</td>\n",
       "      <td>Exports</td>\n",
       "      <td>348.6</td>\n",
       "    </tr>\n",
       "    <tr>\n",
       "      <th>3</th>\n",
       "      <td>Vessels, aircraft etc.</td>\n",
       "      <td>USA</td>\n",
       "      <td>2000M05</td>\n",
       "      <td>Exports</td>\n",
       "      <td>274.7</td>\n",
       "    </tr>\n",
       "    <tr>\n",
       "      <th>4</th>\n",
       "      <td>TOTAL</td>\n",
       "      <td>China</td>\n",
       "      <td>2000M05</td>\n",
       "      <td>Exports</td>\n",
       "      <td>253.1</td>\n",
       "    </tr>\n",
       "  </tbody>\n",
       "</table>\n",
       "</div>"
      ],
      "text/plain": [
       "                      ART             LAND      TID    INDUD  INDHOLD\n",
       "0  Vessels, aircraft etc.      Netherlands  2000M05  Exports      0.8\n",
       "1  Vessels, aircraft etc.           Norway  2000M05  Exports      0.4\n",
       "2  Vessels, aircraft etc.  COUNTRIES TOTAL  2000M05  Exports    348.6\n",
       "3  Vessels, aircraft etc.              USA  2000M05  Exports    274.7\n",
       "4                   TOTAL            China  2000M05  Exports    253.1"
      ]
     },
     "execution_count": 228,
     "metadata": {},
     "output_type": "execute_result"
    }
   ],
   "source": [
    "#Retrieving the data through the API of DST and taking a quick look at it.\n",
    "uhv3 = dst.get_data(table_id = 'UHV3', variables={'ART':['*'], 'LAND':['*'], 'TID':['*'], 'INDUD':[\"*\"]})\n",
    "uhv3.head()"
   ]
  },
  {
   "cell_type": "code",
   "execution_count": 229,
   "metadata": {},
   "outputs": [
    {
     "data": {
      "text/html": [
       "<div>\n",
       "<style scoped>\n",
       "    .dataframe tbody tr th:only-of-type {\n",
       "        vertical-align: middle;\n",
       "    }\n",
       "\n",
       "    .dataframe tbody tr th {\n",
       "        vertical-align: top;\n",
       "    }\n",
       "\n",
       "    .dataframe thead th {\n",
       "        text-align: right;\n",
       "    }\n",
       "</style>\n",
       "<table border=\"1\" class=\"dataframe\">\n",
       "  <thead>\n",
       "    <tr style=\"text-align: right;\">\n",
       "      <th></th>\n",
       "      <th>Variable</th>\n",
       "      <th>Country</th>\n",
       "      <th>Date</th>\n",
       "      <th>Exports</th>\n",
       "      <th>Value</th>\n",
       "    </tr>\n",
       "  </thead>\n",
       "  <tbody>\n",
       "    <tr>\n",
       "      <th>0</th>\n",
       "      <td>Vessels, aircraft etc.</td>\n",
       "      <td>Netherlands</td>\n",
       "      <td>2000M05</td>\n",
       "      <td>Exports</td>\n",
       "      <td>0.8</td>\n",
       "    </tr>\n",
       "    <tr>\n",
       "      <th>1</th>\n",
       "      <td>Vessels, aircraft etc.</td>\n",
       "      <td>Norway</td>\n",
       "      <td>2000M05</td>\n",
       "      <td>Exports</td>\n",
       "      <td>0.4</td>\n",
       "    </tr>\n",
       "    <tr>\n",
       "      <th>2</th>\n",
       "      <td>Vessels, aircraft etc.</td>\n",
       "      <td>COUNTRIES TOTAL</td>\n",
       "      <td>2000M05</td>\n",
       "      <td>Exports</td>\n",
       "      <td>348.6</td>\n",
       "    </tr>\n",
       "    <tr>\n",
       "      <th>3</th>\n",
       "      <td>Vessels, aircraft etc.</td>\n",
       "      <td>USA</td>\n",
       "      <td>2000M05</td>\n",
       "      <td>Exports</td>\n",
       "      <td>274.7</td>\n",
       "    </tr>\n",
       "    <tr>\n",
       "      <th>4</th>\n",
       "      <td>TOTAL</td>\n",
       "      <td>China</td>\n",
       "      <td>2000M05</td>\n",
       "      <td>Exports</td>\n",
       "      <td>253.1</td>\n",
       "    </tr>\n",
       "  </tbody>\n",
       "</table>\n",
       "</div>"
      ],
      "text/plain": [
       "                 Variable          Country     Date  Exports  Value\n",
       "0  Vessels, aircraft etc.      Netherlands  2000M05  Exports    0.8\n",
       "1  Vessels, aircraft etc.           Norway  2000M05  Exports    0.4\n",
       "2  Vessels, aircraft etc.  COUNTRIES TOTAL  2000M05  Exports  348.6\n",
       "3  Vessels, aircraft etc.              USA  2000M05  Exports  274.7\n",
       "4                   TOTAL            China  2000M05  Exports  253.1"
      ]
     },
     "execution_count": 229,
     "metadata": {},
     "output_type": "execute_result"
    }
   ],
   "source": [
    "#Renaming the column names using our predefined dictionary.\n",
    "uhv3.rename(columns=columns_dict_1,inplace=True)\n",
    "uhv3.head()"
   ]
  },
  {
   "cell_type": "code",
   "execution_count": 298,
   "metadata": {},
   "outputs": [
    {
     "data": {
      "text/plain": [
       "Variable     object\n",
       "Country      object\n",
       "Date         object\n",
       "Exports      object\n",
       "Value       float64\n",
       "dtype: object"
      ]
     },
     "execution_count": 298,
     "metadata": {},
     "output_type": "execute_result"
    }
   ],
   "source": [
    "#Converting the type of 'Value' to floats, as this is necessary for further analysis.\n",
    "uhv3.Value = uhv3.Value.astype('float')\n",
    "uhv3.dtypes"
   ]
  },
  {
   "cell_type": "code",
   "execution_count": 231,
   "metadata": {},
   "outputs": [],
   "source": [
    "#Removing imports, as we focues our analysis on exports.\n",
    "for key,value in export_dict_1.items():\n",
    "   uhv3.Exports.replace(key,value,inplace=True)\n",
    "\n",
    "I = False\n",
    "for key,value in export_dict_1.items():\n",
    "    I = I | (uhv3.Exports == value)\n",
    "uhv3 = uhv3[I]"
   ]
  },
  {
   "cell_type": "code",
   "execution_count": 232,
   "metadata": {},
   "outputs": [],
   "source": [
    "#Selecting countries and areas for further analysis using country_dict_1.\n",
    "for key,value in country_dict_1.items():\n",
    "   uhv3.Country.replace(key,value,inplace=True)\n",
    "\n",
    "I = False\n",
    "for key,value in country_dict_1.items():\n",
    "    I = I | (uhv3.Country == value)\n",
    "uhv3 = uhv3[I]"
   ]
  },
  {
   "cell_type": "markdown",
   "metadata": {},
   "source": [
    "Note to Asker: We want to select the EU, but after we select the countries using our dictionary, it does no include the EU. Can you help us spot the mistake? :) Maybe we didn't name it properly."
   ]
  },
  {
   "cell_type": "markdown",
   "metadata": {},
   "source": [
    " We select the three most exported goods and the total amount for further examination using our predefined dictionary. "
   ]
  },
  {
   "cell_type": "code",
   "execution_count": 233,
   "metadata": {},
   "outputs": [
    {
     "data": {
      "text/html": [
       "<div>\n",
       "<style scoped>\n",
       "    .dataframe tbody tr th:only-of-type {\n",
       "        vertical-align: middle;\n",
       "    }\n",
       "\n",
       "    .dataframe tbody tr th {\n",
       "        vertical-align: top;\n",
       "    }\n",
       "\n",
       "    .dataframe thead th {\n",
       "        text-align: right;\n",
       "    }\n",
       "</style>\n",
       "<table border=\"1\" class=\"dataframe\">\n",
       "  <thead>\n",
       "    <tr style=\"text-align: right;\">\n",
       "      <th></th>\n",
       "      <th>Variable</th>\n",
       "      <th>Country</th>\n",
       "      <th>Date</th>\n",
       "      <th>Exports</th>\n",
       "      <th>Value</th>\n",
       "    </tr>\n",
       "  </thead>\n",
       "  <tbody>\n",
       "    <tr>\n",
       "      <th>4</th>\n",
       "      <td>Total</td>\n",
       "      <td>China</td>\n",
       "      <td>2000M05</td>\n",
       "      <td>Export</td>\n",
       "      <td>253.1</td>\n",
       "    </tr>\n",
       "    <tr>\n",
       "      <th>12</th>\n",
       "      <td>Total</td>\n",
       "      <td>Norway</td>\n",
       "      <td>2000M05</td>\n",
       "      <td>Export</td>\n",
       "      <td>1802.6</td>\n",
       "    </tr>\n",
       "    <tr>\n",
       "      <th>15</th>\n",
       "      <td>Total</td>\n",
       "      <td>Total</td>\n",
       "      <td>2000M05</td>\n",
       "      <td>Export</td>\n",
       "      <td>35359.4</td>\n",
       "    </tr>\n",
       "    <tr>\n",
       "      <th>16</th>\n",
       "      <td>Total</td>\n",
       "      <td>US</td>\n",
       "      <td>2000M05</td>\n",
       "      <td>Export</td>\n",
       "      <td>2374.7</td>\n",
       "    </tr>\n",
       "    <tr>\n",
       "      <th>30</th>\n",
       "      <td>Live animals, Food, Beverages And Tobacco</td>\n",
       "      <td>China</td>\n",
       "      <td>2000M05</td>\n",
       "      <td>Export</td>\n",
       "      <td>21.3</td>\n",
       "    </tr>\n",
       "    <tr>\n",
       "      <th>38</th>\n",
       "      <td>Live animals, Food, Beverages And Tobacco</td>\n",
       "      <td>Norway</td>\n",
       "      <td>2000M05</td>\n",
       "      <td>Export</td>\n",
       "      <td>183.3</td>\n",
       "    </tr>\n",
       "    <tr>\n",
       "      <th>41</th>\n",
       "      <td>Live animals, Food, Beverages And Tobacco</td>\n",
       "      <td>Total</td>\n",
       "      <td>2000M05</td>\n",
       "      <td>Export</td>\n",
       "      <td>6204.5</td>\n",
       "    </tr>\n",
       "    <tr>\n",
       "      <th>42</th>\n",
       "      <td>Live animals, Food, Beverages And Tobacco</td>\n",
       "      <td>US</td>\n",
       "      <td>2000M05</td>\n",
       "      <td>Export</td>\n",
       "      <td>217.2</td>\n",
       "    </tr>\n",
       "    <tr>\n",
       "      <th>68</th>\n",
       "      <td>Chemicals And Related Products</td>\n",
       "      <td>China</td>\n",
       "      <td>2000M05</td>\n",
       "      <td>Export</td>\n",
       "      <td>11.3</td>\n",
       "    </tr>\n",
       "    <tr>\n",
       "      <th>76</th>\n",
       "      <td>Chemicals And Related Products</td>\n",
       "      <td>Norway</td>\n",
       "      <td>2000M05</td>\n",
       "      <td>Export</td>\n",
       "      <td>160.1</td>\n",
       "    </tr>\n",
       "    <tr>\n",
       "      <th>79</th>\n",
       "      <td>Chemicals And Related Products</td>\n",
       "      <td>Total</td>\n",
       "      <td>2000M05</td>\n",
       "      <td>Export</td>\n",
       "      <td>3310.6</td>\n",
       "    </tr>\n",
       "    <tr>\n",
       "      <th>80</th>\n",
       "      <td>Chemicals And Related Products</td>\n",
       "      <td>US</td>\n",
       "      <td>2000M05</td>\n",
       "      <td>Export</td>\n",
       "      <td>167.3</td>\n",
       "    </tr>\n",
       "    <tr>\n",
       "      <th>94</th>\n",
       "      <td>Machinery (excl. Transport Equipment)</td>\n",
       "      <td>China</td>\n",
       "      <td>2000M05</td>\n",
       "      <td>Export</td>\n",
       "      <td>58.5</td>\n",
       "    </tr>\n",
       "    <tr>\n",
       "      <th>102</th>\n",
       "      <td>Machinery (excl. Transport Equipment)</td>\n",
       "      <td>Norway</td>\n",
       "      <td>2000M05</td>\n",
       "      <td>Export</td>\n",
       "      <td>274.2</td>\n",
       "    </tr>\n",
       "    <tr>\n",
       "      <th>105</th>\n",
       "      <td>Machinery (excl. Transport Equipment)</td>\n",
       "      <td>Total</td>\n",
       "      <td>2000M05</td>\n",
       "      <td>Export</td>\n",
       "      <td>3508.0</td>\n",
       "    </tr>\n",
       "    <tr>\n",
       "      <th>106</th>\n",
       "      <td>Machinery (excl. Transport Equipment)</td>\n",
       "      <td>US</td>\n",
       "      <td>2000M05</td>\n",
       "      <td>Export</td>\n",
       "      <td>248.0</td>\n",
       "    </tr>\n",
       "    <tr>\n",
       "      <th>272</th>\n",
       "      <td>Total</td>\n",
       "      <td>China</td>\n",
       "      <td>2000M06</td>\n",
       "      <td>Export</td>\n",
       "      <td>196.3</td>\n",
       "    </tr>\n",
       "    <tr>\n",
       "      <th>280</th>\n",
       "      <td>Total</td>\n",
       "      <td>Norway</td>\n",
       "      <td>2000M06</td>\n",
       "      <td>Export</td>\n",
       "      <td>1716.8</td>\n",
       "    </tr>\n",
       "    <tr>\n",
       "      <th>283</th>\n",
       "      <td>Total</td>\n",
       "      <td>Total</td>\n",
       "      <td>2000M06</td>\n",
       "      <td>Export</td>\n",
       "      <td>33593.1</td>\n",
       "    </tr>\n",
       "    <tr>\n",
       "      <th>284</th>\n",
       "      <td>Total</td>\n",
       "      <td>US</td>\n",
       "      <td>2000M06</td>\n",
       "      <td>Export</td>\n",
       "      <td>2248.5</td>\n",
       "    </tr>\n",
       "  </tbody>\n",
       "</table>\n",
       "</div>"
      ],
      "text/plain": [
       "                                      Variable Country     Date Exports  \\\n",
       "4                                        Total   China  2000M05  Export   \n",
       "12                                       Total  Norway  2000M05  Export   \n",
       "15                                       Total   Total  2000M05  Export   \n",
       "16                                       Total      US  2000M05  Export   \n",
       "30   Live animals, Food, Beverages And Tobacco   China  2000M05  Export   \n",
       "38   Live animals, Food, Beverages And Tobacco  Norway  2000M05  Export   \n",
       "41   Live animals, Food, Beverages And Tobacco   Total  2000M05  Export   \n",
       "42   Live animals, Food, Beverages And Tobacco      US  2000M05  Export   \n",
       "68              Chemicals And Related Products   China  2000M05  Export   \n",
       "76              Chemicals And Related Products  Norway  2000M05  Export   \n",
       "79              Chemicals And Related Products   Total  2000M05  Export   \n",
       "80              Chemicals And Related Products      US  2000M05  Export   \n",
       "94       Machinery (excl. Transport Equipment)   China  2000M05  Export   \n",
       "102      Machinery (excl. Transport Equipment)  Norway  2000M05  Export   \n",
       "105      Machinery (excl. Transport Equipment)   Total  2000M05  Export   \n",
       "106      Machinery (excl. Transport Equipment)      US  2000M05  Export   \n",
       "272                                      Total   China  2000M06  Export   \n",
       "280                                      Total  Norway  2000M06  Export   \n",
       "283                                      Total   Total  2000M06  Export   \n",
       "284                                      Total      US  2000M06  Export   \n",
       "\n",
       "       Value  \n",
       "4      253.1  \n",
       "12    1802.6  \n",
       "15   35359.4  \n",
       "16    2374.7  \n",
       "30      21.3  \n",
       "38     183.3  \n",
       "41    6204.5  \n",
       "42     217.2  \n",
       "68      11.3  \n",
       "76     160.1  \n",
       "79    3310.6  \n",
       "80     167.3  \n",
       "94      58.5  \n",
       "102    274.2  \n",
       "105   3508.0  \n",
       "106    248.0  \n",
       "272    196.3  \n",
       "280   1716.8  \n",
       "283  33593.1  \n",
       "284   2248.5  "
      ]
     },
     "execution_count": 233,
     "metadata": {},
     "output_type": "execute_result"
    }
   ],
   "source": [
    "#Renaming the variables and keeping the ones of interest.\n",
    "for key,value in var_dict_1.items():\n",
    "   uhv3.Variable.replace(key,value,inplace=True)\n",
    "\n",
    "I = False\n",
    "for key,value in var_dict_1.items():\n",
    "    I = I | (uhv3.Variable == value)\n",
    "uhv3 = uhv3[I]\n",
    "\n",
    "uhv3.head(20)"
   ]
  },
  {
   "cell_type": "markdown",
   "metadata": {},
   "source": [
    "We now want to aggregate our dataset so it contains yearly observations from 2005 and onwards, as it then matches up with the data from bb3."
   ]
  },
  {
   "cell_type": "markdown",
   "metadata": {},
   "source": [
    "*Note to Asker. We dont how to aggregate nor drop the dates before 2005. We have tried to convert the 'Date' to a datetime variable, but not even that seem to work. Concerning the aggregation, we have tried the split-apply-combine method we have seen in the lectures. However since we need to group by both 'Variable' and 'Country', we are lost... \n",
    "We tried searching the web for answers and pandas documentation, we found some answers, but couldn't \"translate\" to our case. We need help :)*"
   ]
  },
  {
   "cell_type": "code",
   "execution_count": 267,
   "metadata": {},
   "outputs": [
    {
     "data": {
      "text/html": [
       "<div>\n",
       "<style scoped>\n",
       "    .dataframe tbody tr th:only-of-type {\n",
       "        vertical-align: middle;\n",
       "    }\n",
       "\n",
       "    .dataframe tbody tr th {\n",
       "        vertical-align: top;\n",
       "    }\n",
       "\n",
       "    .dataframe thead th {\n",
       "        text-align: right;\n",
       "    }\n",
       "</style>\n",
       "<table border=\"1\" class=\"dataframe\">\n",
       "  <thead>\n",
       "    <tr style=\"text-align: right;\">\n",
       "      <th></th>\n",
       "      <th>Variable</th>\n",
       "      <th>Country</th>\n",
       "      <th>Date</th>\n",
       "      <th>Exports</th>\n",
       "      <th>Value</th>\n",
       "    </tr>\n",
       "  </thead>\n",
       "  <tbody>\n",
       "    <tr>\n",
       "      <th>4</th>\n",
       "      <td>Total</td>\n",
       "      <td>China</td>\n",
       "      <td>2000M05</td>\n",
       "      <td>Export</td>\n",
       "      <td>253.1</td>\n",
       "    </tr>\n",
       "    <tr>\n",
       "      <th>12</th>\n",
       "      <td>Total</td>\n",
       "      <td>Norway</td>\n",
       "      <td>2000M05</td>\n",
       "      <td>Export</td>\n",
       "      <td>1802.6</td>\n",
       "    </tr>\n",
       "    <tr>\n",
       "      <th>15</th>\n",
       "      <td>Total</td>\n",
       "      <td>Total</td>\n",
       "      <td>2000M05</td>\n",
       "      <td>Export</td>\n",
       "      <td>35359.4</td>\n",
       "    </tr>\n",
       "    <tr>\n",
       "      <th>16</th>\n",
       "      <td>Total</td>\n",
       "      <td>US</td>\n",
       "      <td>2000M05</td>\n",
       "      <td>Export</td>\n",
       "      <td>2374.7</td>\n",
       "    </tr>\n",
       "    <tr>\n",
       "      <th>30</th>\n",
       "      <td>Live animals, Food, Beverages And Tobacco</td>\n",
       "      <td>China</td>\n",
       "      <td>2000M05</td>\n",
       "      <td>Export</td>\n",
       "      <td>21.3</td>\n",
       "    </tr>\n",
       "    <tr>\n",
       "      <th>38</th>\n",
       "      <td>Live animals, Food, Beverages And Tobacco</td>\n",
       "      <td>Norway</td>\n",
       "      <td>2000M05</td>\n",
       "      <td>Export</td>\n",
       "      <td>183.3</td>\n",
       "    </tr>\n",
       "    <tr>\n",
       "      <th>41</th>\n",
       "      <td>Live animals, Food, Beverages And Tobacco</td>\n",
       "      <td>Total</td>\n",
       "      <td>2000M05</td>\n",
       "      <td>Export</td>\n",
       "      <td>6204.5</td>\n",
       "    </tr>\n",
       "    <tr>\n",
       "      <th>42</th>\n",
       "      <td>Live animals, Food, Beverages And Tobacco</td>\n",
       "      <td>US</td>\n",
       "      <td>2000M05</td>\n",
       "      <td>Export</td>\n",
       "      <td>217.2</td>\n",
       "    </tr>\n",
       "    <tr>\n",
       "      <th>68</th>\n",
       "      <td>Chemicals And Related Products</td>\n",
       "      <td>China</td>\n",
       "      <td>2000M05</td>\n",
       "      <td>Export</td>\n",
       "      <td>11.3</td>\n",
       "    </tr>\n",
       "    <tr>\n",
       "      <th>76</th>\n",
       "      <td>Chemicals And Related Products</td>\n",
       "      <td>Norway</td>\n",
       "      <td>2000M05</td>\n",
       "      <td>Export</td>\n",
       "      <td>160.1</td>\n",
       "    </tr>\n",
       "  </tbody>\n",
       "</table>\n",
       "</div>"
      ],
      "text/plain": [
       "                                     Variable Country     Date Exports  \\\n",
       "4                                       Total   China  2000M05  Export   \n",
       "12                                      Total  Norway  2000M05  Export   \n",
       "15                                      Total   Total  2000M05  Export   \n",
       "16                                      Total      US  2000M05  Export   \n",
       "30  Live animals, Food, Beverages And Tobacco   China  2000M05  Export   \n",
       "38  Live animals, Food, Beverages And Tobacco  Norway  2000M05  Export   \n",
       "41  Live animals, Food, Beverages And Tobacco   Total  2000M05  Export   \n",
       "42  Live animals, Food, Beverages And Tobacco      US  2000M05  Export   \n",
       "68             Chemicals And Related Products   China  2000M05  Export   \n",
       "76             Chemicals And Related Products  Norway  2000M05  Export   \n",
       "\n",
       "      Value  \n",
       "4     253.1  \n",
       "12   1802.6  \n",
       "15  35359.4  \n",
       "16   2374.7  \n",
       "30     21.3  \n",
       "38    183.3  \n",
       "41   6204.5  \n",
       "42    217.2  \n",
       "68     11.3  \n",
       "76    160.1  "
      ]
     },
     "execution_count": 267,
     "metadata": {},
     "output_type": "execute_result"
    }
   ],
   "source": [
    "uhv3[~uhv3.Date.str.contains('2000')]\n",
    "uhv3.head(10)"
   ]
  },
  {
   "cell_type": "code",
   "execution_count": null,
   "metadata": {},
   "outputs": [],
   "source": []
  },
  {
   "cell_type": "markdown",
   "metadata": {},
   "source": [
    "We now want to analyze which goods we export to the which countries."
   ]
  },
  {
   "cell_type": "markdown",
   "metadata": {},
   "source": []
  },
  {
   "cell_type": "code",
   "execution_count": null,
   "metadata": {},
   "outputs": [],
   "source": []
  },
  {
   "cell_type": "code",
   "execution_count": null,
   "metadata": {},
   "outputs": [],
   "source": []
  }
 ],
 "metadata": {
  "kernelspec": {
   "display_name": "Python 3",
   "language": "python",
   "name": "python3"
  },
  "language_info": {
   "codemirror_mode": {
    "name": "ipython",
    "version": 3
   },
   "file_extension": ".py",
   "mimetype": "text/x-python",
   "name": "python",
   "nbconvert_exporter": "python",
   "pygments_lexer": "ipython3",
   "version": "3.8.5"
  },
  "toc-autonumbering": true
 },
 "nbformat": 4,
 "nbformat_minor": 4
}