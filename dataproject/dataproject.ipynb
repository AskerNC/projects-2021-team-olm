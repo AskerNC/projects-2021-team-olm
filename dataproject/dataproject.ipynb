{
 "cells": [
  {
   "cell_type": "markdown",
   "metadata": {},
   "source": [
    "# Danish trade balance"
   ]
  },
  {
   "cell_type": "markdown",
   "metadata": {},
   "source": [
    "**Importing packages.**"
   ]
  },
  {
   "cell_type": "code",
   "execution_count": 1,
   "metadata": {},
   "outputs": [],
   "source": [
    "#Importing relevant packages\n",
    "import numpy as np\n",
    "import matplotlib.pyplot as plt\n",
    "plt.style.use('seaborn-whitegrid')\n",
    "import pandas as pd\n",
    "import pydst\n",
    "dst = pydst.Dst(lang='en')"
   ]
  },
  {
   "cell_type": "markdown",
   "metadata": {},
   "source": [
    "**Creating dictionaries for later use.**"
   ]
  },
  {
   "cell_type": "code",
   "execution_count": 2,
   "metadata": {},
   "outputs": [],
   "source": [
    "#Creating dictionaries \n",
    "columns_dict = {}\n",
    "columns_dict['POST'] = 'Variable'\n",
    "columns_dict['TID'] = 'Year'\n",
    "columns_dict['LAND'] = 'Country'\n",
    "columns_dict['INDUDBOP'] = 'ImportExport'\n",
    "columns_dict['INDHOLD'] = 'Value'\n",
    "\n",
    "var_dict = {} \n",
    "var_dict['GOODS (FOB)'] = 'Goods'\n",
    "var_dict['SERVICES'] = 'Services'\n",
    "var_dict['CURRENT ACCOUNT'] = 'Current account'\n",
    "\n",
    "country_dict = {}\n",
    "country_dict['United States'] = 'US'\n",
    "country_dict['EU-28'] = 'EU'\n",
    "country_dict['Norway'] = 'Norway'\n",
    "country_dict['Germany'] = 'Germany'\n",
    "country_dict['China'] = 'China'\n",
    "country_dict['United Kingdom'] = 'UK'"
   ]
  },
  {
   "cell_type": "code",
   "execution_count": 3,
   "metadata": {},
   "outputs": [
    {
     "data": {
      "text/plain": [
       "['United States', 'EU-28', 'Norway', 'Germany', 'China', 'United Kingdom']"
      ]
     },
     "execution_count": 3,
     "metadata": {},
     "output_type": "execute_result"
    }
   ],
   "source": [
    "list(country_dict.keys())"
   ]
  },
  {
   "cell_type": "markdown",
   "metadata": {},
   "source": [
    "**Retrieving data.**"
   ]
  },
  {
   "cell_type": "code",
   "execution_count": 4,
   "metadata": {},
   "outputs": [
    {
     "data": {
      "text/html": [
       "<div>\n",
       "<style scoped>\n",
       "    .dataframe tbody tr th:only-of-type {\n",
       "        vertical-align: middle;\n",
       "    }\n",
       "\n",
       "    .dataframe tbody tr th {\n",
       "        vertical-align: top;\n",
       "    }\n",
       "\n",
       "    .dataframe thead th {\n",
       "        text-align: right;\n",
       "    }\n",
       "</style>\n",
       "<table border=\"1\" class=\"dataframe\">\n",
       "  <thead>\n",
       "    <tr style=\"text-align: right;\">\n",
       "      <th></th>\n",
       "      <th>POST</th>\n",
       "      <th>LAND</th>\n",
       "      <th>TID</th>\n",
       "      <th>INDUDBOP</th>\n",
       "      <th>INDHOLD</th>\n",
       "    </tr>\n",
       "  </thead>\n",
       "  <tbody>\n",
       "    <tr>\n",
       "      <th>0</th>\n",
       "      <td>GOODS (FOB)</td>\n",
       "      <td>European Union Institutions (excl. ECB and ESM)</td>\n",
       "      <td>2009</td>\n",
       "      <td>Current receipts</td>\n",
       "      <td>0</td>\n",
       "    </tr>\n",
       "    <tr>\n",
       "      <th>1</th>\n",
       "      <td>GOODS (FOB)</td>\n",
       "      <td>European Central Bank (ECB)</td>\n",
       "      <td>2009</td>\n",
       "      <td>Current receipts</td>\n",
       "      <td>0</td>\n",
       "    </tr>\n",
       "    <tr>\n",
       "      <th>2</th>\n",
       "      <td>GOODS (FOB)</td>\n",
       "      <td>European Stability Mechanism (ESM)</td>\n",
       "      <td>2009</td>\n",
       "      <td>Current receipts</td>\n",
       "      <td>0</td>\n",
       "    </tr>\n",
       "    <tr>\n",
       "      <th>3</th>\n",
       "      <td>GOODS (FOB)</td>\n",
       "      <td>INTERNATIONAL ORGANISATIONS (EXCL. EU INST.)</td>\n",
       "      <td>2009</td>\n",
       "      <td>Current receipts</td>\n",
       "      <td>1</td>\n",
       "    </tr>\n",
       "    <tr>\n",
       "      <th>4</th>\n",
       "      <td>GOODS (FOB)</td>\n",
       "      <td>AMERICA</td>\n",
       "      <td>2009</td>\n",
       "      <td>Current receipts</td>\n",
       "      <td>51841</td>\n",
       "    </tr>\n",
       "  </tbody>\n",
       "</table>\n",
       "</div>"
      ],
      "text/plain": [
       "          POST                                             LAND   TID  \\\n",
       "0  GOODS (FOB)  European Union Institutions (excl. ECB and ESM)  2009   \n",
       "1  GOODS (FOB)                      European Central Bank (ECB)  2009   \n",
       "2  GOODS (FOB)               European Stability Mechanism (ESM)  2009   \n",
       "3  GOODS (FOB)     INTERNATIONAL ORGANISATIONS (EXCL. EU INST.)  2009   \n",
       "4  GOODS (FOB)                                          AMERICA  2009   \n",
       "\n",
       "           INDUDBOP INDHOLD  \n",
       "0  Current receipts       0  \n",
       "1  Current receipts       0  \n",
       "2  Current receipts       0  \n",
       "3  Current receipts       1  \n",
       "4  Current receipts   51841  "
      ]
     },
     "execution_count": 4,
     "metadata": {},
     "output_type": "execute_result"
    }
   ],
   "source": [
    "#Retrieving the data through the API of DST and taking a quick look at it.\n",
    "bb3 = dst.get_data(table_id = 'BB3', variables={'POST':['*'], 'LAND':['*'], 'TID':['*']})\n",
    "bb3.head(5)"
   ]
  },
  {
   "cell_type": "markdown",
   "metadata": {},
   "source": [
    "# Read and clean data"
   ]
  },
  {
   "cell_type": "markdown",
   "metadata": {},
   "source": [
    "**In this section we will clean the data by renamning rows and columns. We will furthermore select countries and areas, which we will examine.**"
   ]
  },
  {
   "cell_type": "code",
   "execution_count": 5,
   "metadata": {},
   "outputs": [
    {
     "data": {
      "text/html": [
       "<div>\n",
       "<style scoped>\n",
       "    .dataframe tbody tr th:only-of-type {\n",
       "        vertical-align: middle;\n",
       "    }\n",
       "\n",
       "    .dataframe tbody tr th {\n",
       "        vertical-align: top;\n",
       "    }\n",
       "\n",
       "    .dataframe thead th {\n",
       "        text-align: right;\n",
       "    }\n",
       "</style>\n",
       "<table border=\"1\" class=\"dataframe\">\n",
       "  <thead>\n",
       "    <tr style=\"text-align: right;\">\n",
       "      <th></th>\n",
       "      <th>Variable</th>\n",
       "      <th>Country</th>\n",
       "      <th>Year</th>\n",
       "      <th>ImportExport</th>\n",
       "      <th>Value</th>\n",
       "    </tr>\n",
       "  </thead>\n",
       "  <tbody>\n",
       "    <tr>\n",
       "      <th>0</th>\n",
       "      <td>GOODS (FOB)</td>\n",
       "      <td>European Union Institutions (excl. ECB and ESM)</td>\n",
       "      <td>2009</td>\n",
       "      <td>Current receipts</td>\n",
       "      <td>0</td>\n",
       "    </tr>\n",
       "    <tr>\n",
       "      <th>1</th>\n",
       "      <td>GOODS (FOB)</td>\n",
       "      <td>European Central Bank (ECB)</td>\n",
       "      <td>2009</td>\n",
       "      <td>Current receipts</td>\n",
       "      <td>0</td>\n",
       "    </tr>\n",
       "    <tr>\n",
       "      <th>2</th>\n",
       "      <td>GOODS (FOB)</td>\n",
       "      <td>European Stability Mechanism (ESM)</td>\n",
       "      <td>2009</td>\n",
       "      <td>Current receipts</td>\n",
       "      <td>0</td>\n",
       "    </tr>\n",
       "    <tr>\n",
       "      <th>3</th>\n",
       "      <td>GOODS (FOB)</td>\n",
       "      <td>INTERNATIONAL ORGANISATIONS (EXCL. EU INST.)</td>\n",
       "      <td>2009</td>\n",
       "      <td>Current receipts</td>\n",
       "      <td>1</td>\n",
       "    </tr>\n",
       "    <tr>\n",
       "      <th>4</th>\n",
       "      <td>GOODS (FOB)</td>\n",
       "      <td>AMERICA</td>\n",
       "      <td>2009</td>\n",
       "      <td>Current receipts</td>\n",
       "      <td>51841</td>\n",
       "    </tr>\n",
       "  </tbody>\n",
       "</table>\n",
       "</div>"
      ],
      "text/plain": [
       "      Variable                                          Country  Year  \\\n",
       "0  GOODS (FOB)  European Union Institutions (excl. ECB and ESM)  2009   \n",
       "1  GOODS (FOB)                      European Central Bank (ECB)  2009   \n",
       "2  GOODS (FOB)               European Stability Mechanism (ESM)  2009   \n",
       "3  GOODS (FOB)     INTERNATIONAL ORGANISATIONS (EXCL. EU INST.)  2009   \n",
       "4  GOODS (FOB)                                          AMERICA  2009   \n",
       "\n",
       "       ImportExport  Value  \n",
       "0  Current receipts      0  \n",
       "1  Current receipts      0  \n",
       "2  Current receipts      0  \n",
       "3  Current receipts      1  \n",
       "4  Current receipts  51841  "
      ]
     },
     "execution_count": 5,
     "metadata": {},
     "output_type": "execute_result"
    }
   ],
   "source": [
    "#Renaming the column names using our predefined dictionary.\n",
    "bb3.rename(columns=columns_dict,inplace=True)\n",
    "bb3.head(5)"
   ]
  },
  {
   "cell_type": "code",
   "execution_count": 6,
   "metadata": {},
   "outputs": [
    {
     "data": {
      "text/plain": [
       "array(['GOODS (FOB)', 'Other business services', 'Travel',\n",
       "       'NET ERRORS AND OMISSIONS',\n",
       "       'Primary income, investment income, direct investment, equity',\n",
       "       'Air transport', 'Personal, cultural, and recreational services',\n",
       "       'SERVICES', 'Secondary income, net nonlife insurance premiums',\n",
       "       'Other modes of transport',\n",
       "       'Primary income, investment income, direct investment, debt instruments',\n",
       "       'NET LENDING', 'Secondary income, social contributions',\n",
       "       'Government goods and services',\n",
       "       'Primary income, investment income, direct investment',\n",
       "       'Manufacturing services', 'Postal and courier services',\n",
       "       'Sea transport, other', 'CURRENT ACCOUNT',\n",
       "       'Secondary income, social benefits', 'Goods and services',\n",
       "       'FINANCIAL ACCOUNT', 'Transport', 'Construction',\n",
       "       'Primary income, investment income, reserve assets',\n",
       "       'Primary income, other primary income, subsidies',\n",
       "       'Sea transport, passenger',\n",
       "       'Primary income, investment income, portfolio investment, equity',\n",
       "       'Primary income, other primary income', 'Sea transport, freight',\n",
       "       'Primary income, investment income, portfolio investment, debt instruments',\n",
       "       'Primary income, investment income, portfolio investment, investment fund shares',\n",
       "       'Primary income, other primary income, taxes on production and imports',\n",
       "       'Maintenance and repair services',\n",
       "       'Primary income, investment income, other investment',\n",
       "       'Primary income, investment income, portfolio investment',\n",
       "       'Sea transport', 'Secondary income, net nonlife insurance claims',\n",
       "       'Secondary income, taxes on income', 'CAPITAL TRANSFERS ETC.',\n",
       "       'SECONDARY INCOME',\n",
       "       'Charges for the use of intellectual properties',\n",
       "       'Primary income, other primary income, rent',\n",
       "       'Primary income, investment income',\n",
       "       'Secondary income, other transfers',\n",
       "       'Primary income, compensation of employees',\n",
       "       'Telecommunications, computer, and information services',\n",
       "       'Financial services', 'PRIMARY INCOME',\n",
       "       'Insurance and pensions services'], dtype=object)"
      ]
     },
     "execution_count": 6,
     "metadata": {},
     "output_type": "execute_result"
    }
   ],
   "source": [
    "bb3.Variable.unique()"
   ]
  },
  {
   "cell_type": "code",
   "execution_count": 7,
   "metadata": {},
   "outputs": [
    {
     "data": {
      "text/plain": [
       "array(['Current receipts'], dtype=object)"
      ]
     },
     "execution_count": 7,
     "metadata": {},
     "output_type": "execute_result"
    }
   ],
   "source": [
    "bb3.ImportExport.unique()"
   ]
  },
  {
   "cell_type": "code",
   "execution_count": 8,
   "metadata": {},
   "outputs": [],
   "source": [
    "#Renaming the variables and keeping the ones of interest (Goods, Services and Current Account)\n",
    "for key,value in var_dict.items():\n",
    "   bb3.Variable.replace(key,value,inplace=True)\n",
    "\n",
    "I = False\n",
    "for key,value in var_dict.items():\n",
    "    I = I | (bb3.Variable == value)\n",
    "bb3 = bb3[I]"
   ]
  },
  {
   "cell_type": "code",
   "execution_count": 9,
   "metadata": {},
   "outputs": [
    {
     "data": {
      "text/html": [
       "<div>\n",
       "<style scoped>\n",
       "    .dataframe tbody tr th:only-of-type {\n",
       "        vertical-align: middle;\n",
       "    }\n",
       "\n",
       "    .dataframe tbody tr th {\n",
       "        vertical-align: top;\n",
       "    }\n",
       "\n",
       "    .dataframe thead th {\n",
       "        text-align: right;\n",
       "    }\n",
       "</style>\n",
       "<table border=\"1\" class=\"dataframe\">\n",
       "  <thead>\n",
       "    <tr style=\"text-align: right;\">\n",
       "      <th></th>\n",
       "      <th>Variable</th>\n",
       "      <th>Country</th>\n",
       "      <th>Year</th>\n",
       "      <th>ImportExport</th>\n",
       "      <th>Value</th>\n",
       "    </tr>\n",
       "  </thead>\n",
       "  <tbody>\n",
       "    <tr>\n",
       "      <th>23</th>\n",
       "      <td>Goods</td>\n",
       "      <td>EU</td>\n",
       "      <td>2009</td>\n",
       "      <td>Current receipts</td>\n",
       "      <td>333846</td>\n",
       "    </tr>\n",
       "    <tr>\n",
       "      <th>54</th>\n",
       "      <td>Goods</td>\n",
       "      <td>China</td>\n",
       "      <td>2009</td>\n",
       "      <td>Current receipts</td>\n",
       "      <td>11950</td>\n",
       "    </tr>\n",
       "    <tr>\n",
       "      <th>1341</th>\n",
       "      <td>Goods</td>\n",
       "      <td>EU</td>\n",
       "      <td>2006</td>\n",
       "      <td>Current receipts</td>\n",
       "      <td>374576</td>\n",
       "    </tr>\n",
       "    <tr>\n",
       "      <th>1372</th>\n",
       "      <td>Goods</td>\n",
       "      <td>China</td>\n",
       "      <td>2006</td>\n",
       "      <td>Current receipts</td>\n",
       "      <td>7032</td>\n",
       "    </tr>\n",
       "    <tr>\n",
       "      <th>1382</th>\n",
       "      <td>Goods</td>\n",
       "      <td>Germany</td>\n",
       "      <td>2006</td>\n",
       "      <td>Current receipts</td>\n",
       "      <td>88383</td>\n",
       "    </tr>\n",
       "  </tbody>\n",
       "</table>\n",
       "</div>"
      ],
      "text/plain": [
       "     Variable  Country  Year      ImportExport   Value\n",
       "23      Goods       EU  2009  Current receipts  333846\n",
       "54      Goods    China  2009  Current receipts   11950\n",
       "1341    Goods       EU  2006  Current receipts  374576\n",
       "1372    Goods    China  2006  Current receipts    7032\n",
       "1382    Goods  Germany  2006  Current receipts   88383"
      ]
     },
     "execution_count": 9,
     "metadata": {},
     "output_type": "execute_result"
    }
   ],
   "source": [
    "#Selecting countries and areas for further analysis using country_dict.\n",
    "for key,value in country_dict.items():\n",
    "   bb3.Country.replace(key,value,inplace=True)\n",
    "\n",
    "I = False\n",
    "for key,value in country_dict.items():\n",
    "    I = I | (bb3.Country == value)\n",
    "bb3 = bb3[I].copy()\n",
    "\n",
    "bb3.head(5)"
   ]
  },
  {
   "cell_type": "code",
   "execution_count": 11,
   "metadata": {},
   "outputs": [
    {
     "data": {
      "text/plain": [
       "Variable         object\n",
       "Country          object\n",
       "Year              int64\n",
       "ImportExport     object\n",
       "Value           float64\n",
       "dtype: object"
      ]
     },
     "execution_count": 11,
     "metadata": {},
     "output_type": "execute_result"
    }
   ],
   "source": [
    "#Converting the type of 'Value' to floats\n",
    "bb3.Value = bb3.Value.astype('float')\n",
    "bb3.dtypes"
   ]
  },
  {
   "cell_type": "markdown",
   "metadata": {},
   "source": [
    "# Analysis"
   ]
  },
  {
   "cell_type": "markdown",
   "metadata": {},
   "source": [
    "**Analysis of the cleaned dataset.**"
   ]
  },
  {
   "cell_type": "code",
   "execution_count": 12,
   "metadata": {},
   "outputs": [
    {
     "data": {
      "text/html": [
       "<div>\n",
       "<style scoped>\n",
       "    .dataframe tbody tr th:only-of-type {\n",
       "        vertical-align: middle;\n",
       "    }\n",
       "\n",
       "    .dataframe tbody tr th {\n",
       "        vertical-align: top;\n",
       "    }\n",
       "\n",
       "    .dataframe thead th {\n",
       "        text-align: right;\n",
       "    }\n",
       "</style>\n",
       "<table border=\"1\" class=\"dataframe\">\n",
       "  <thead>\n",
       "    <tr style=\"text-align: right;\">\n",
       "      <th></th>\n",
       "      <th>mean</th>\n",
       "      <th>std</th>\n",
       "    </tr>\n",
       "    <tr>\n",
       "      <th>Country</th>\n",
       "      <th></th>\n",
       "      <th></th>\n",
       "    </tr>\n",
       "  </thead>\n",
       "  <tbody>\n",
       "    <tr>\n",
       "      <th>China</th>\n",
       "      <td>24537.80</td>\n",
       "      <td>14091.72</td>\n",
       "    </tr>\n",
       "    <tr>\n",
       "      <th>EU</th>\n",
       "      <td>423260.13</td>\n",
       "      <td>215073.55</td>\n",
       "    </tr>\n",
       "    <tr>\n",
       "      <th>Germany</th>\n",
       "      <td>97719.84</td>\n",
       "      <td>50032.97</td>\n",
       "    </tr>\n",
       "    <tr>\n",
       "      <th>Norway</th>\n",
       "      <td>47728.42</td>\n",
       "      <td>23047.97</td>\n",
       "    </tr>\n",
       "    <tr>\n",
       "      <th>UK</th>\n",
       "      <td>61478.89</td>\n",
       "      <td>32649.59</td>\n",
       "    </tr>\n",
       "    <tr>\n",
       "      <th>US</th>\n",
       "      <td>75696.53</td>\n",
       "      <td>42767.39</td>\n",
       "    </tr>\n",
       "  </tbody>\n",
       "</table>\n",
       "</div>"
      ],
      "text/plain": [
       "              mean        std\n",
       "Country                      \n",
       "China     24537.80   14091.72\n",
       "EU       423260.13  215073.55\n",
       "Germany   97719.84   50032.97\n",
       "Norway    47728.42   23047.97\n",
       "UK        61478.89   32649.59\n",
       "US        75696.53   42767.39"
      ]
     },
     "execution_count": 12,
     "metadata": {},
     "output_type": "execute_result"
    }
   ],
   "source": [
    "#Summary statistics of the data after the clean up.\n",
    "bb3.groupby('Country')['Value'].agg(['mean','std']).round(2)"
   ]
  },
  {
   "cell_type": "code",
   "execution_count": 21,
   "metadata": {},
   "outputs": [
    {
     "data": {
      "image/png": "[encoded data removed]",
      "text/plain": [
       "<Figure size 864x432 with 2 Axes>"
      ]
     },
     "metadata": {},
     "output_type": "display_data"
    }
   ],
   "source": [
    "def plot(df):\n",
    "    df_indexed = df.set_index('Year')\n",
    "    df_indexed.sort_index(inplace=True)\n",
    "    I = df_indexed.Variable == 'Goods'\n",
    "    I1 = I & (df_indexed.Country=='EU')\n",
    "    I2 = I & (df_indexed.Country!='EU')\n",
    "    \n",
    "    df_indexed.ImportExport == 'Current receipts'\n",
    "    fig = plt.figure(figsize=(12,6))\n",
    "    ax1 = fig.add_subplot(1,2,1)\n",
    "    ax2 = fig.add_subplot(1,2,2)\n",
    "    df_indexed[I1].groupby(['Country'])['Value'].plot(legend=True,ax=ax1)\n",
    "    df_indexed[I2].groupby(['Country'])['Value'].plot(legend=True,ax=ax2)\n",
    "    \n",
    "plot(bb3)"
   ]
  },
  {
   "cell_type": "markdown",
   "metadata": {},
   "source": [
    "# Conclusive remarks"
   ]
  },
  {
   "cell_type": "markdown",
   "metadata": {},
   "source": [
    "We are fully aware that this project is not a sufficient answer to the assignment. We experienced som difficulties and ran out of time. This version is not the final version. We will redo and correct this project before the deadline for the exam. "
   ]
  },
  {
   "cell_type": "code",
   "execution_count": null,
   "metadata": {},
   "outputs": [],
   "source": []
  }
 ],
 "metadata": {
  "kernelspec": {
   "display_name": "Python 3",
   "language": "python",
   "name": "python3"
  },
  "language_info": {
   "codemirror_mode": {
    "name": "ipython",
    "version": 3
   },
   "file_extension": ".py",
   "mimetype": "text/x-python",
   "name": "python",
   "nbconvert_exporter": "python",
   "pygments_lexer": "ipython3",
   "version": "3.8.5"
  },
  "toc-autonumbering": true
 },
 "nbformat": 4,
 "nbformat_minor": 4
}
