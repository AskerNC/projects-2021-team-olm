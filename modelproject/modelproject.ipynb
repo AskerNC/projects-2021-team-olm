{
 "cells": [
  {
   "cell_type": "markdown",
   "metadata": {},
   "source": [
    "# The overlapping generations model"
   ]
  },
  {
   "cell_type": "markdown",
   "metadata": {},
   "source": [
    "Imports relevant packages:"
   ]
  },
  {
   "cell_type": "code",
   "execution_count": 1,
   "metadata": {},
   "outputs": [],
   "source": [
    "import numpy as np\n",
    "from scipy import optimize\n",
    "import sympy as sm\n",
    "import matplotlib.pyplot as plt"
   ]
  },
  {
   "cell_type": "markdown",
   "metadata": {},
   "source": [
    "# Model description"
   ]
  },
  {
   "cell_type": "markdown",
   "metadata": {},
   "source": [
    "Below is a description of the OLG-model. We describe the properties and assumptions of the chosen model."
   ]
  },
  {
   "cell_type": "markdown",
   "metadata": {},
   "source": [
    "In this model, time is discrete and indexed by $$t\\in\\{0,1,\\dots\\}$$\n",
    "\n",
    "The population grows at a positive rate, $n$. The population thus changes over time according to: $$L_t=L_{t-1}(1+n)$$\n",
    "\n",
    "The agents derive utility from consumption the following way: $$U =u(c_{1,t})+\\frac{1}{1+\\rho}u(c_{2,t+1}),\\quad \\rho>-1$$\n",
    "Consumption as young and old are denoted by $c_{1,t}$ and $c_{2,t+1}$. Agents discount the future by the discount rate, $\\rho$. Furthermore, we assume that the utility of consumption is logarithmic, $u(c)=ln(c)$.\n",
    "\n",
    "The agents live for two periods. In the first, they supply one unit of labour inelastically at the wage rate, $w_t$. Then they chose their consumption and savings levels. In the second period, the agents are now old and retired. They live off their their gross savings from the first period. Since the agents do not live for another period, they will not save. The budget constraints for the first and second period respectively are therefore:\n",
    "\n",
    "\n",
    "$$c_{1,t}=w_{t}-s_t \\\\$$\n",
    "$$c_{2,t+1}=s_{t}(1+r_{t+1})$$\n",
    "\n",
    "We can thus derive the lifetime budget constraint:\n",
    "\n",
    "$$w_t=c_{1,t}+\\frac{c_{2,t+1}}{1+r_{t+1}}$$\n",
    "\n",
    "\n",
    "\n",
    "Lastly, we assume that the production function is a standard Cobb-Douglas: \n",
    "\n",
    "$$Y_t(K_t,L_t)=K_t^\\alpha L_t^{1-\\alpha}$$\n"
   ]
  },
  {
   "cell_type": "markdown",
   "metadata": {},
   "source": [
    "# Analytical solution"
   ]
  },
  {
   "cell_type": "markdown",
   "metadata": {},
   "source": [
    "We need to define the variables, which we will be using for this analytical solution. We need to define the variables using sympy."
   ]
  },
  {
   "cell_type": "code",
   "execution_count": 2,
   "metadata": {},
   "outputs": [],
   "source": [
    "#Defining variables\n",
    "alpha = sm.symbols('alpha')\n",
    "c1 = sm.symbols('c_1t')\n",
    "c2 = sm.symbols('c_2t+1')\n",
    "K = sm.symbols('K_t')\n",
    "k = sm.symbols('k_t')\n",
    "k1 = sm.symbols('k_t+1')\n",
    "kstar = sm.symbols('k^*')\n",
    "lamb = sm.symbols('lambda')\n",
    "L = sm.symbols('L_t')\n",
    "n = sm.symbols('n')\n",
    "rho = sm.symbols('rho')\n",
    "rt = sm.symbols('r_t')\n",
    "rt1 = sm.symbols('r_t+1')\n",
    "st = sm.symbols('s_t')\n",
    "wt = sm.symbols('w_t')\n",
    "Y = sm.symbols('Y')\n",
    "t = sm.symbols('t')"
   ]
  },
  {
   "cell_type": "markdown",
   "metadata": {},
   "source": [
    "## The household's problem"
   ]
  },
  {
   "cell_type": "markdown",
   "metadata": {},
   "source": [
    "We start by solving the household's problem. To do so we need to set up our model."
   ]
  },
  {
   "cell_type": "code",
   "execution_count": 3,
   "metadata": {},
   "outputs": [],
   "source": [
    "#Setting up the utility function\n",
    "uc1 = sm.ln(c1)\n",
    "uc2 = sm.ln(c2)\n",
    "U = uc1 + 1/(1+rho) * uc2\n",
    "\n",
    "\n",
    "#Setting up the three budget constraints (period 1, period 2 and the lifetime budget constraint).\n",
    "bc1 = wt-st\n",
    "bc2 = (1+rt1)*st \n",
    "bc = c1 + c2 / (1+rt1) - wt "
   ]
  },
  {
   "cell_type": "markdown",
   "metadata": {},
   "source": [
    "We chose to solve this maximisation by using the Lagrange method."
   ]
  },
  {
   "cell_type": "code",
   "execution_count": 4,
   "metadata": {},
   "outputs": [
    {
     "data": {
      "text/latex": [
       "$\\displaystyle - \\lambda \\left(c_{1t} + \\frac{c_{2t+1}}{r_{t+1} + 1} - w_{t}\\right) + \\log{\\left(c_{1t} \\right)} + \\frac{\\log{\\left(c_{2t+1} \\right)}}{\\rho + 1}$"
      ],
      "text/plain": [
       "-lambda*(c_1t + c_2t+1/(r_t+1 + 1) - w_t) + log(c_1t) + log(c_2t+1)/(rho + 1)"
      ]
     },
     "execution_count": 4,
     "metadata": {},
     "output_type": "execute_result"
    }
   ],
   "source": [
    "#Setting up the Lagrangian\n",
    "Lagrange = U-lamb*bc\n",
    "Lagrange"
   ]
  },
  {
   "cell_type": "code",
   "execution_count": 5,
   "metadata": {},
   "outputs": [
    {
     "data": {
      "text/latex": [
       "$\\displaystyle c_{1t} = \\frac{c_{2t+1} \\left(\\rho + 1\\right)}{r_{t+1} + 1}$"
      ],
      "text/plain": [
       "Eq(c_1t, c_2t+1*(rho + 1)/(r_t+1 + 1))"
      ]
     },
     "execution_count": 5,
     "metadata": {},
     "output_type": "execute_result"
    }
   ],
   "source": [
    "#First order conditions w.r.t. to c1 and c2 respectively\n",
    "FOC_c1 = sm.Eq(0,sm.diff(Lagrange,c1))\n",
    "FOC_c2 = sm.Eq(0,sm.diff(Lagrange,c2))\n",
    "\n",
    "#Solving the two FOC's \n",
    "lamb1 = sm.solve(FOC_c1,lamb)[0]\n",
    "lamb2 = sm.solve(FOC_c2,lamb)[0]\n",
    "\n",
    "#Deriving the Euler equation by combining lamb1 and lamb2\n",
    "euler = sm.Eq(lamb1, lamb2)\n",
    "euler = sm.solve(euler,c1)[0]\n",
    "euler = sm.Eq(c1,euler)\n",
    "euler"
   ]
  },
  {
   "cell_type": "markdown",
   "metadata": {},
   "source": [
    "The Euler equation essentially describes how an agent must be indifferent between consuming one more unit in the first period versus saving and consuming in the second period. We now want to derive the optimal savings rate. We do this by substituting the budget constraints into the Euler equation and solving for $s$."
   ]
  },
  {
   "cell_type": "code",
   "execution_count": 6,
   "metadata": {},
   "outputs": [
    {
     "data": {
      "text/latex": [
       "$\\displaystyle s_{t} = \\frac{w_{t}}{\\rho + 2}$"
      ],
      "text/plain": [
       "Eq(s_t, w_t/(rho + 2))"
      ]
     },
     "execution_count": 6,
     "metadata": {},
     "output_type": "execute_result"
    }
   ],
   "source": [
    "#Substituting the budget constraint into the Euler equation\n",
    "euler_temp = euler.subs(c1,bc1)\n",
    "euler_new = euler_temp.subs(c2,bc2)\n",
    "\n",
    "#Solving for s\n",
    "optimal_savings = sm.solve(euler_new,st)[0]\n",
    "optimal_savings = sm.Eq(st,optimal_savings)\n",
    "optimal_savings"
   ]
  },
  {
   "cell_type": "markdown",
   "metadata": {},
   "source": [
    "The optimal savings rate is a constant fraction of the wage rate and depends on the discount factor. We have now solved the model from the households perspective and will move on to the firms."
   ]
  },
  {
   "cell_type": "markdown",
   "metadata": {},
   "source": [
    "## Maximisation of the firms"
   ]
  },
  {
   "cell_type": "markdown",
   "metadata": {},
   "source": [
    "The firms maximisation problem is\n",
    "$$ max      K_{t}^{\\alpha}L_{t}^{1-\\alpha}-r_tK_t-w_tL_t$$\n",
    "\n",
    "We solve the problem by finding the first order conditions with respect to $K_t$ and $L_t$:"
   ]
  },
  {
   "cell_type": "code",
   "execution_count": 7,
   "metadata": {},
   "outputs": [
    {
     "data": {
      "text/latex": [
       "$\\displaystyle r_{t} = K_{t}^{\\alpha - 1} L_{t}^{1 - \\alpha} \\alpha$"
      ],
      "text/plain": [
       "Eq(r_t, K_t**(alpha - 1)*L_t**(1 - alpha)*alpha)"
      ]
     },
     "execution_count": 7,
     "metadata": {},
     "output_type": "execute_result"
    }
   ],
   "source": [
    "#Setting up the production function \n",
    "Y = K**alpha * L**(1-alpha)\n",
    "\n",
    "#Finding the interest rate \n",
    "d_yk = sm.diff(Y,K)\n",
    "i_rate = sm.Eq(rt,d_yk)\n",
    "i_rate = sm.simplify(i_rate)\n",
    "i_rate"
   ]
  },
  {
   "cell_type": "code",
   "execution_count": 8,
   "metadata": {},
   "outputs": [
    {
     "data": {
      "text/latex": [
       "$\\displaystyle w_{t} = K_{t}^{\\alpha} L_{t}^{- \\alpha} \\left(1 - \\alpha\\right)$"
      ],
      "text/plain": [
       "Eq(w_t, K_t**alpha*L_t**(-alpha)*(1 - alpha))"
      ]
     },
     "execution_count": 8,
     "metadata": {},
     "output_type": "execute_result"
    }
   ],
   "source": [
    "#Finding wage rate\n",
    "d_yl = sm.diff(Y,L) #Partial derivative\n",
    "wage = sm.Eq(wt,d_yl)\n",
    "wage_s = sm.simplify(wage)\n",
    "wage_s"
   ]
  },
  {
   "cell_type": "markdown",
   "metadata": {},
   "source": [
    "We now find the expressions in per worker terms. Where we utilise the definition: $$\\frac{K}{L}=k$$"
   ]
  },
  {
   "cell_type": "code",
   "execution_count": 9,
   "metadata": {},
   "outputs": [
    {
     "data": {
      "text/latex": [
       "$\\displaystyle r_{t} = \\alpha k_{t}^{\\alpha - 1}$"
      ],
      "text/plain": [
       "Eq(r_t, alpha*k_t**(alpha - 1))"
      ]
     },
     "metadata": {},
     "output_type": "display_data"
    },
    {
     "data": {
      "text/latex": [
       "$\\displaystyle w_{t} = k_{t}^{\\alpha} \\left(1 - \\alpha\\right)$"
      ],
      "text/plain": [
       "Eq(w_t, k_t**alpha*(1 - alpha))"
      ]
     },
     "metadata": {},
     "output_type": "display_data"
    }
   ],
   "source": [
    "#Interest rate and wage rate per worker\n",
    "irate_pw = sm.Eq(rt,(alpha*k**(alpha-1)))\n",
    "wage_pw = sm.Eq(wt, ((1-alpha)*k**(alpha)))\n",
    "display(irate_pw,wage_pw)"
   ]
  },
  {
   "cell_type": "markdown",
   "metadata": {},
   "source": [
    "We have thus solved the firms problem in per worker terms."
   ]
  },
  {
   "cell_type": "markdown",
   "metadata": {},
   "source": [
    "## Steady state level of capital per worker"
   ]
  },
  {
   "cell_type": "markdown",
   "metadata": {},
   "source": [
    "We can now use our previous findings to derive the steady state level of capital per worker. Capital accumulation is expressed like so:$$k_{t+1}(1+n)=s_t$$\n",
    "\n",
    "The entire stock of capital in period $t+1$ comes from the savings in period $1$. We start by setting up the capital accumulation function. Thereafter we substitute the expression for the wage rate into optimal savings equation."
   ]
  },
  {
   "cell_type": "code",
   "execution_count": 10,
   "metadata": {},
   "outputs": [
    {
     "data": {
      "text/latex": [
       "$\\displaystyle k_{t+1} = \\frac{k_{t}^{\\alpha} \\left(1 - \\alpha\\right)}{n \\rho + 2 n + \\rho + 2}$"
      ],
      "text/plain": [
       "Eq(k_t+1, k_t**alpha*(1 - alpha)/(n*rho + 2*n + rho + 2))"
      ]
     },
     "execution_count": 10,
     "metadata": {},
     "output_type": "execute_result"
    }
   ],
   "source": [
    "#Setting up the capital accumulation function\n",
    "cap_acc = k1 *(1+n)\n",
    "\n",
    "#Substituting the wage rate into the equation for optimal savings\n",
    "optimal_savings_2 = optimal_savings.subs(wt, ((1-alpha)*k**(alpha)))\n",
    "\n",
    "#Inserting the capital accumulation function into the optimal savings equation\n",
    "cap_acc = optimal_savings_2.subs(st,cap_acc)\n",
    "\n",
    "#Solving for k_t+1\n",
    "cap_acc = sm.solve(cap_acc,k1) [0]\n",
    "cap_acc = sm.Eq(k1,cap_acc)\n",
    "cap_acc "
   ]
  },
  {
   "cell_type": "markdown",
   "metadata": {},
   "source": [
    "Now we simply use the definition of a steady state, which implies $k_{t+1}=k_t=k^*$."
   ]
  },
  {
   "cell_type": "code",
   "execution_count": 11,
   "metadata": {},
   "outputs": [
    {
     "data": {
      "text/latex": [
       "$\\displaystyle k^{*} = \\left(\\frac{- n \\rho - 2 n - \\rho - 2}{\\alpha - 1}\\right)^{\\frac{1}{\\alpha - 1}}$"
      ],
      "text/plain": [
       "Eq(k^*, ((-n*rho - 2*n - rho - 2)/(alpha - 1))**(1/(alpha - 1)))"
      ]
     },
     "execution_count": 11,
     "metadata": {},
     "output_type": "execute_result"
    }
   ],
   "source": [
    "#Applying beforementioned definition\n",
    "ss = cap_acc.subs(k1, kstar)\n",
    "ss_cap = ss.subs(k, kstar)\n",
    "\n",
    "#Solving for kstar \n",
    "ss_cap = sm.solve(ss_cap,kstar) [0]\n",
    "ss_cap = sm.Eq(kstar,ss_cap)\n",
    "ss_cap"
   ]
  },
  {
   "cell_type": "markdown",
   "metadata": {},
   "source": [
    "Thus we have derived the steady state level of capita."
   ]
  },
  {
   "cell_type": "markdown",
   "metadata": {},
   "source": [
    "# Numerical solution"
   ]
  },
  {
   "cell_type": "markdown",
   "metadata": {},
   "source": [
    "We will now solve this model numerically. We start by defining realistic parameter values. We select parameter values based on the prevailing theory. "
   ]
  },
  {
   "cell_type": "code",
   "execution_count": 12,
   "metadata": {},
   "outputs": [],
   "source": [
    "#Define parameter values\n",
    "alpha = 1/3\n",
    "n = 0.05\n",
    "rho = 0.1"
   ]
  },
  {
   "cell_type": "markdown",
   "metadata": {},
   "source": [
    "We will use an optimizer for this root finding problem. More specifically we will use the root_scalar. "
   ]
  },
  {
   "cell_type": "code",
   "execution_count": 13,
   "metadata": {},
   "outputs": [
    {
     "name": "stdout",
     "output_type": "stream",
     "text": [
      "The numerical solution for the steady state level of capital per worker is: 0.1662\n"
     ]
    }
   ],
   "source": [
    "#Defining our objective function\n",
    "obj_kss = lambda kstar: kstar - (kstar**alpha*(1-alpha))/(n*rho+2*n+rho+2)\n",
    "\n",
    "#Optimizing the steady state function\n",
    "result = optimize.root_scalar(obj_kss,bracket=[0.001,1000],method='brentq')\n",
    "\n",
    "print('The numerical solution for the steady state level of capital per worker is: %0.4f' %result.root)"
   ]
  },
  {
   "cell_type": "markdown",
   "metadata": {},
   "source": [
    "We can now plot the dynamics of the model in a transition diagram:"
   ]
  },
  {
   "cell_type": "code",
   "execution_count": 14,
   "metadata": {},
   "outputs": [
    {
     "data": {
      "application/vnd.jupyter.widget-view+json": {
       "model_id": "765a58c9ce2f4b83a78f2d2dd52137c5",
       "version_major": 2,
       "version_minor": 0
      },
      "text/plain": [
       "interactive(children=(FloatSlider(value=0.1, description='rho', max=5.0, min=-0.99, step=0.01), Output()), _do…"
      ]
     },
     "metadata": {},
     "output_type": "display_data"
    }
   ],
   "source": [
    "def transition(k,alpha,rho,n,t):\n",
    "    w = k**alpha * (1-alpha)\n",
    "    s = w / (rho+2)\n",
    "    k1 = s / (n+1)\n",
    "    return k1\n",
    "\n",
    "def transition_diagram(alpha,rho,n,trans_fun,t):\n",
    "    \n",
    "    #Setting up grids\n",
    "    k_1 = np.linspace(1e-20,6,1000)\n",
    "    k_2 = np.empty(1000)\n",
    "    \n",
    "    #Constructing array\n",
    "    for i,k in enumerate(k_1):\n",
    "        k_plus = trans_fun(k,alpha,rho,n,t)\n",
    "        k_2[i] = k_plus\n",
    "        \n",
    "    return k_1, k_2\n",
    "\n",
    "#Plotting the graph\n",
    "def fig(rho,trans_fun,t):\n",
    "    k_1, k_2 = transition_diagram(alpha,rho,n,trans_fun,t)\n",
    "    fig = plt.figure()\n",
    "    ax = fig.add_subplot(1,1,1)\n",
    "    ax.plot(k_1,k_2)\n",
    "    ax.plot(k_1,k_1, '--', color='grey')\n",
    "    plt.text(0.6,0.26,'$k_{t+1}$')\n",
    "    plt.text(0.6,0.6,'$k_t=k_{t+1}$')\n",
    "    ax.set_xlabel('$k_t$')\n",
    "    ax.set_ylabel('$k_{t+1}$')\n",
    "    ax.set_title('Figure 1: Transition diagram')\n",
    "    ax.set_xlim([0,0.6])\n",
    "    ax.set_ylim([0,0.6]);\n",
    "    ax.grid(True);\n",
    "    return\n",
    "\n",
    "#Adding widget for rho\n",
    "import ipywidgets as widgets\n",
    "widgets.interact(fig, \n",
    "    rho = widgets.FloatSlider(description='rho', min=-0.99, max=5, step=0.01, value=0.1),\n",
    "    trans_fun = widgets.fixed(transition),\n",
    "    t =widgets.fixed(t)\n",
    ");"
   ]
  },
  {
   "cell_type": "code",
   "execution_count": null,
   "metadata": {},
   "outputs": [],
   "source": [
    "\n"
   ]
  },
  {
   "cell_type": "code",
   "execution_count": 15,
   "metadata": {},
   "outputs": [
    {
     "data": {
      "application/vnd.jupyter.widget-view+json": {
       "model_id": "e71ef01a58a94d21a6771fcb5f52dbdb",
       "version_major": 2,
       "version_minor": 0
      },
      "text/plain": [
       "interactive(children=(FloatSlider(value=0.1, description='rho', max=5.0, min=-0.99, step=0.01), FloatSlider(va…"
      ]
     },
     "metadata": {},
     "output_type": "display_data"
    }
   ],
   "source": [
    "def transition_l_tax(k,alpha,rho,n,t):\n",
    "    w = k**alpha * (1-alpha)\n",
    "    s = w*(1-t) / (rho+2)\n",
    "    k1 = s / (n+1)\n",
    "    return k1\n",
    "\n",
    "\n",
    "#Adding widget for rho\n",
    "import ipywidgets as widgets\n",
    "widgets.interact(fig, \n",
    "    rho = widgets.FloatSlider(description='rho', min=-0.99, max=5, step=0.01, value=0.1),\n",
    "    trans_fun = widgets.fixed(transition_l_tax),\n",
    "    t = widgets.FloatSlider(description='t', min=0, max=1, step=0.01, value=0.3),\n",
    ");"
   ]
  },
  {
   "cell_type": "code",
   "execution_count": 16,
   "metadata": {},
   "outputs": [
    {
     "data": {
      "text/plain": [
       "1.5471962778709263"
      ]
     },
     "execution_count": 16,
     "metadata": {},
     "output_type": "execute_result"
    }
   ],
   "source": [
    "alpha*0.1**(alpha-1)"
   ]
  },
  {
   "cell_type": "markdown",
   "metadata": {},
   "source": [
    "The steady state level is where the 45 degree line intersect the curve for $k_{t+1}$."
   ]
  },
  {
   "cell_type": "markdown",
   "metadata": {},
   "source": [
    "We are also interested in the agents allocation of consumption over time. Therefore, we create plot to show the consumption level in period 1 and 2 dependent on $\\rho$."
   ]
  },
  {
   "cell_type": "code",
   "execution_count": 17,
   "metadata": {},
   "outputs": [],
   "source": [
    "def solve(alpha,n,rho):\n",
    "    #Defining our objective function\n",
    "    obj_kss = lambda kstar: kstar - (kstar**alpha*(1-alpha))/(n*rho+2*n+rho+2)\n",
    "\n",
    "    #Optimizing the steady state function\n",
    "    result = optimize.root_scalar(obj_kss,bracket=[0.001,1000],method='brentq')\n",
    "    kss = result.root\n",
    "    \n",
    "    r = alpha*kss**(alpha-1)\n",
    "    w = (1-alpha)*kss**(alpha)\n",
    "    \n",
    "    s = w/(rho+2)\n",
    "    \n",
    "    c1 = w-s\n",
    "    c2 = s*(1+r)\n",
    "    return [c1, c2, r]"
   ]
  },
  {
   "cell_type": "code",
   "execution_count": 18,
   "metadata": {},
   "outputs": [
    {
     "data": {
      "image/png": "[encoded data removed]",
      "text/plain": [
       "<Figure size 432x288 with 2 Axes>"
      ]
     },
     "metadata": {
      "needs_background": "light"
     },
     "output_type": "display_data"
    }
   ],
   "source": [
    "#Setting up grids\n",
    "rho_space= np.linspace(-1,3,300)\n",
    "c_vec = np.array([solve(alpha,n,rho) for rho in rho_space])\n",
    "\n",
    "#Plotting the graph\n",
    "fig = plt.figure()\n",
    "ax = fig.add_subplot(1,2,1)\n",
    "ax2 = fig.add_subplot(1,2,2)\n",
    "ax.plot(rho_space,c_vec[:,0])\n",
    "ax.plot(rho_space,c_vec[:,1])\n",
    "\n",
    "ax2.plot(rho_space,c_vec[:,2])\n",
    "ax.legend(['$c_{1,t}$','$c_{2,t+1}$'])\n",
    "ax.set_xlabel('$rho$')\n",
    "ax.set_ylabel('$c$')\n",
    "ax.set_title('Figure 2: Consumption over time')\n",
    "ax.grid(True);"
   ]
  },
  {
   "cell_type": "code",
   "execution_count": 19,
   "metadata": {},
   "outputs": [
    {
     "data": {
      "image/png": "[encoded data removed]",
      "text/plain": [
       "<Figure size 432x288 with 1 Axes>"
      ]
     },
     "metadata": {
      "needs_background": "light"
     },
     "output_type": "display_data"
    }
   ],
   "source": [
    "#Setting up grids\n",
    "rho_space= np.linspace(-1,10,300)\n",
    "c_vec = np.array([solve(alpha,n,rho) for rho in rho_space])\n",
    "\n",
    "#Plotting the graph\n",
    "fig = plt.figure()\n",
    "ax = fig.add_subplot(1,1,1)\n",
    "\n",
    "ax.plot(rho_space,c_vec[:,0])\n",
    "ax.plot(rho_space,c_vec[:,1])\n",
    "\n",
    "ax.legend(['$c_{1,t}$','$c_{2,t+1}$'])\n",
    "ax.set_xlabel('$rho$')\n",
    "ax.set_ylabel('$c$')\n",
    "ax.set_title('Figure 2: Consumption over time')\n",
    "ax.grid(True);"
   ]
  },
  {
   "cell_type": "code",
   "execution_count": 21,
   "metadata": {},
   "outputs": [
    {
     "data": {
      "text/plain": [
       "      converged: True\n",
       "           flag: 'converged'\n",
       " function_calls: 8\n",
       "     iterations: 7\n",
       "           root: 2.210526315810104"
      ]
     },
     "execution_count": 21,
     "metadata": {},
     "output_type": "execute_result"
    }
   ],
   "source": [
    "def obj(rho,alpha,n):\n",
    "    c1,c2,r = solve(alpha,n,rho)\n",
    "    return c1-c2\n",
    "\n",
    "optimize.root_scalar(obj,bracket = (2,3),args= (alpha,n))"
   ]
  },
  {
   "cell_type": "code",
   "execution_count": null,
   "metadata": {},
   "outputs": [],
   "source": []
  },
  {
   "cell_type": "markdown",
   "metadata": {},
   "source": [
    "Unexpectedly, we can see that consumption in period 1 increases as $\\rho$ increases. When the agents discount the future at $\\rho=3$, then consumption in the first period is equal to consumption in the second."
   ]
  },
  {
   "cell_type": "markdown",
   "metadata": {},
   "source": [
    "# OLG-model with tax"
   ]
  },
  {
   "cell_type": "markdown",
   "metadata": {},
   "source": [
    "## Tax on income"
   ]
  },
  {
   "cell_type": "markdown",
   "metadata": {},
   "source": [
    "We will now implement a tax in the OLG-model. We will introduce the tax on income and on savings. All the tax revenue goes to the old agents. We start with the tax levied on income. The changes in the model is summarised below.\n",
    "\n",
    "$c_{1,t}=w_{t}(1-t)-s_t$\n",
    "\n",
    "Saving will therefore be: $s_t = \\frac{w_t(1-t)}{\\rho+2}$\n",
    "\n",
    "The transistion function is: $k_{t+1} = \\frac{k_t^{\\alpha} (1- \\alpha)(1-t)}{n \\rho + 2n + \\rho + 2}$\n",
    "\n",
    "We start by setting the tax:"
   ]
  },
  {
   "cell_type": "code",
   "execution_count": 22,
   "metadata": {},
   "outputs": [],
   "source": [
    "#Define parameter values\n",
    "t = 0.3"
   ]
  },
  {
   "cell_type": "code",
   "execution_count": 23,
   "metadata": {},
   "outputs": [
    {
     "data": {
      "application/vnd.jupyter.widget-view+json": {
       "model_id": "3dc29b39486c4de3a072d8c0f61697ef",
       "version_major": 2,
       "version_minor": 0
      },
      "text/plain": [
       "interactive(children=(FloatSlider(value=0.3, description='t', max=1.0, step=0.01), FloatSlider(value=0.1, desc…"
      ]
     },
     "metadata": {},
     "output_type": "display_data"
    }
   ],
   "source": [
    "def transition(k,alpha,rho,t,n):\n",
    "    w = k**alpha * (1-alpha)\n",
    "    s = w*(1-t) / (rho+2)\n",
    "    k1 = s / (n+1)\n",
    "    return k1\n",
    "\n",
    "def transition_diagram(alpha,rho,t,n):\n",
    "    \n",
    "    #Setting up grids\n",
    "    k_1 = np.linspace(1e-20,6,1000)\n",
    "    k_2 = np.empty(1000)\n",
    "    \n",
    "    #Constructing array\n",
    "    for i,k in enumerate(k_1):\n",
    "        k_plus = transition(k,alpha,rho,t,n)\n",
    "        k_2[i] = k_plus\n",
    "        \n",
    "    return k_1, k_2\n",
    "\n",
    "#Plotting the graph\n",
    "def fig(t,rho):\n",
    "    k_1, k_2 = transition_diagram(alpha,t,rho,n)\n",
    "    fig = plt.figure()\n",
    "    ax = fig.add_subplot(1,1,1)\n",
    "    ax.plot(k_1,k_2)\n",
    "    ax.plot(k_1,k_1, '--', color='grey')\n",
    "    plt.text(0.6,0.18,'$k_{t+1}$')\n",
    "    plt.text(0.6,0.6,'$k_t=k_{t+1}$')\n",
    "    ax.set_xlabel('$k_t$')\n",
    "    ax.set_ylabel('$k_{t+1}$')\n",
    "    ax.set_title('Figure 3: Transition diagram')\n",
    "    ax.set_xlim([0,0.6])\n",
    "    ax.set_ylim([0,0.6]);\n",
    "    return\n",
    "\n",
    "#Adding widget for rho\n",
    "import ipywidgets as widgets\n",
    "widgets.interact(fig,                \n",
    "    t = widgets.FloatSlider(description='t', min=0, max=1, step=0.01, value=0.3),\n",
    "    rho = widgets.FloatSlider(description='rho', min=-0.99, max=5, step=0.01, value=0.1),\n",
    ");"
   ]
  },
  {
   "cell_type": "markdown",
   "metadata": {},
   "source": [
    "Unsurprisingly the steady state level of capital per worker decreases as the tax is introduced, although slightly."
   ]
  },
  {
   "cell_type": "code",
   "execution_count": 27,
   "metadata": {},
   "outputs": [
    {
     "data": {
      "image/png": "[encoded data removed]",
      "text/plain": [
       "<Figure size 432x288 with 1 Axes>"
      ]
     },
     "metadata": {
      "needs_background": "light"
     },
     "output_type": "display_data"
    }
   ],
   "source": [
    "t =0.3\n",
    "def solve(alpha,n,rho):\n",
    "    #Defining our objective function\n",
    "    obj_kss = lambda kstar: kstar - (kstar**alpha*(1-alpha)*(1-t))/(n*rho+2*n+rho+2)\n",
    "\n",
    "    #Optimizing the steady state function\n",
    "    result = optimize.root_scalar(obj_kss,bracket=[0.001,1000],method='brentq')\n",
    "    kss = result.root\n",
    "    \n",
    "    r = alpha*kss**(alpha-1)\n",
    "    w = (1-alpha)*kss**(alpha)\n",
    "    \n",
    "    s = w*(1-t)/(rho+2)\n",
    "    \n",
    "    c1 = w*(1-t)-s\n",
    "    c2 = s*(1+r)+w*t\n",
    "    return [c1, c2]\n",
    "\n",
    "#Setting up grids\n",
    "rho_space= np.linspace(-0.1,20,300)\n",
    "c_vec = np.array([solve(alpha,n,rho) for rho in rho_space])\n",
    "\n",
    "#Plotting the graph\n",
    "fig = plt.figure()\n",
    "ax = fig.add_subplot(1,1,1)\n",
    "ax.plot(rho_space,c_vec[:,0])\n",
    "ax.plot(rho_space,c_vec[:,1])\n",
    "ax.legend(['$c_{1,t}$','$c_{2,t+1}$'])\n",
    "ax.set_xlabel('$rho$')\n",
    "ax.set_ylabel('$c$')\n",
    "ax.set_title('Figure 4: Consumption over time')\n",
    "ax.grid(True);"
   ]
  },
  {
   "cell_type": "markdown",
   "metadata": {},
   "source": [
    "When the income tax is introduced, the difference in consumption in the two periods increases. The two curves intersects eachother at $\\rho=15$, which seem quite unrealistic. "
   ]
  },
  {
   "cell_type": "markdown",
   "metadata": {},
   "source": [
    "## Tax on savings"
   ]
  },
  {
   "cell_type": "markdown",
   "metadata": {},
   "source": [
    "Now we consider the tax on savings. The changes can be summarised to:"
   ]
  },
  {
   "cell_type": "markdown",
   "metadata": {},
   "source": [
    "$c_{1,t}=w_{t}-s_t(1+t)$\n",
    "\n",
    "Saving will therefore be: $s_t = \\frac{w_t}{(\\rho+2)(1+t)}$\n",
    "\n",
    "The transistion function is: $k_{t+1} = \\frac{k_t^{\\alpha} (1- \\alpha)}{(n \\rho + 2n + \\rho + 2)(1+t)}$"
   ]
  },
  {
   "cell_type": "markdown",
   "metadata": {},
   "source": [
    "We will now conduct the same methods as previous."
   ]
  },
  {
   "cell_type": "code",
   "execution_count": 28,
   "metadata": {},
   "outputs": [
    {
     "data": {
      "application/vnd.jupyter.widget-view+json": {
       "model_id": "622a1c8cbe1847caa13326f0dac6f4e7",
       "version_major": 2,
       "version_minor": 0
      },
      "text/plain": [
       "interactive(children=(FloatSlider(value=0.3, description='t', max=1.0, step=0.01), FloatSlider(value=0.1, desc…"
      ]
     },
     "metadata": {},
     "output_type": "display_data"
    }
   ],
   "source": [
    "def transition(k,alpha,rho,t,n):\n",
    "    w = k**alpha * (1-alpha)\n",
    "    s = w / ((rho+2)*(1+t))\n",
    "    k1 = s / (n+1)\n",
    "    return k1\n",
    "\n",
    "\n",
    "def transition_diagram(alpha,rho,t,n):\n",
    "    \n",
    "    #Setting up grids\n",
    "    k_1 = np.linspace(1e-20,6,1000)\n",
    "    k_2 = np.empty(1000)\n",
    "    \n",
    "    #Constructing arrays\n",
    "    for i,k in enumerate(k_1):\n",
    "        k_plus = transition(k,alpha,rho,t,n)\n",
    "        k_2[i] = k_plus\n",
    "        \n",
    "    return k_1, k_2\n",
    "\n",
    "#Plotting figure\n",
    "def fig(t,rho):\n",
    "    k_1, k_2 = transition_diagram(alpha,rho,t,n)\n",
    "    fig = plt.figure()\n",
    "    ax = fig.add_subplot(1,1,1)\n",
    "    ax.plot(k_1,k_2)\n",
    "    ax.plot(k_1,k_1, '--', color='grey')\n",
    "    plt.text(0.6,0.23,'$k_{t+1}$')\n",
    "    plt.text(0.6,0.6,'$k_t=k_{t+1}$')\n",
    "    ax.set_xlabel('$k_t$')\n",
    "    ax.set_ylabel('$k_{t+1}$')\n",
    "    ax.set_title('Figure 5: Transition diagram')\n",
    "    ax.set_xlim([0,0.6])\n",
    "    ax.set_ylim([0,0.6]);\n",
    "    return\n",
    "\n",
    "#Adding widgets\n",
    "import ipywidgets as widgets\n",
    "widgets.interact(fig,                \n",
    "    t = widgets.FloatSlider(description='t', min=0, max=1, step=0.01, value=0.3),\n",
    "    rho = widgets.FloatSlider(description='rho', min=-0.99, max=5, step=0.01, value=0.1),\n",
    ");"
   ]
  },
  {
   "cell_type": "markdown",
   "metadata": {},
   "source": [
    "The steady state level is less than the two previous levels due to the effect of a tax on savings. The interest from the savings is therefore also lower. These two effects thus decreases the steady state level of capital per worker by more than the income tax."
   ]
  },
  {
   "cell_type": "code",
   "execution_count": 67,
   "metadata": {},
   "outputs": [
    {
     "data": {
      "image/png": "[encoded data removed]",
      "text/plain": [
       "<Figure size 432x288 with 1 Axes>"
      ]
     },
     "metadata": {
      "needs_background": "light"
     },
     "output_type": "display_data"
    }
   ],
   "source": [
    "def solve(alpha,n,rho):\n",
    "    #Defining our objective function\n",
    "    obj_kss = lambda kstar: kstar - (kstar**alpha*(1-alpha))/((n*rho+2*n+rho+2)*(1+t))\n",
    "\n",
    "    #Optimizing the steady state function\n",
    "    result = optimize.root_scalar(obj_kss,bracket=[0.001,1000],method='brentq')\n",
    "    kss = result.root\n",
    "    \n",
    "    r = alpha*kss**(alpha-1)\n",
    "    w = (1-alpha)*kss**(alpha)\n",
    "    \n",
    "    s = w*(1-t)/(rho+2)\n",
    "    \n",
    "    c1 = w-s*(1+t)\n",
    "    c2 = s*(1+t)*(1+r)\n",
    "    return [c1, c2]\n",
    "\n",
    "#Setting up grids\n",
    "rho_space= np.linspace(-1,3,300)\n",
    "c_vec = np.array([solve(alpha,n,rho) for rho in rho_space])\n",
    "\n",
    "#Plotting the graph\n",
    "fig = plt.figure()\n",
    "ax = fig.add_subplot(1,1,1)\n",
    "ax.plot(rho_space,c_vec[:,0])\n",
    "ax.plot(rho_space,c_vec[:,1])\n",
    "ax.legend(['$c_{1,t}$','$c_{2,t+1}$'])\n",
    "ax.set_xlabel('$rho$')\n",
    "ax.set_ylabel('$c$')\n",
    "ax.set_title('Figure 6: Consumption over time')\n",
    "ax.grid(True);"
   ]
  },
  {
   "cell_type": "markdown",
   "metadata": {},
   "source": [
    "With a tax on saving, consumption in period 2 becomes more expensive and therefore less attractive. This shows in figure 6."
   ]
  },
  {
   "cell_type": "markdown",
   "metadata": {},
   "source": [
    "# Conclusion"
   ]
  },
  {
   "cell_type": "markdown",
   "metadata": {},
   "source": [
    "ADD CONCISE CONCLUSION."
   ]
  }
 ],
 "metadata": {
  "kernelspec": {
   "display_name": "Python 3",
   "language": "python",
   "name": "python3"
  },
  "language_info": {
   "codemirror_mode": {
    "name": "ipython",
    "version": 3
   },
   "file_extension": ".py",
   "mimetype": "text/x-python",
   "name": "python",
   "nbconvert_exporter": "python",
   "pygments_lexer": "ipython3",
   "version": "3.8.8"
  },
  "toc-autonumbering": true
 },
 "nbformat": 4,
 "nbformat_minor": 4
}
